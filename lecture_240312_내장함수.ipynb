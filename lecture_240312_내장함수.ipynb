{
 "cells": [
  {
   "cell_type": "markdown",
   "id": "69facc20",
   "metadata": {},
   "source": [
    "# 05-5 내장 함수"
   ]
  },
  {
   "cell_type": "code",
   "execution_count": 1,
   "id": "63e03952",
   "metadata": {},
   "outputs": [
    {
     "data": {
      "text/plain": [
       "1.2"
      ]
     },
     "execution_count": 1,
     "metadata": {},
     "output_type": "execute_result"
    }
   ],
   "source": [
    "# abs : 어떤 숫자를 입력받았을 때 그 숫자의 절댓값을 리턴하는 함수\n",
    "\n",
    "abs(-3)\n",
    "abs(-1.2)"
   ]
  },
  {
   "cell_type": "code",
   "execution_count": 2,
   "id": "5d790844",
   "metadata": {},
   "outputs": [
    {
     "data": {
      "text/plain": [
       "True"
      ]
     },
     "execution_count": 2,
     "metadata": {},
     "output_type": "execute_result"
    }
   ],
   "source": [
    "# all : 반복 가능한 데이터 x를 입력값으로 받으며 이 x의 요소가 모두 참이면 True, 거짓이 하나라도 있으면 False를 리턴\n",
    "all([1, 2, 3])"
   ]
  },
  {
   "cell_type": "code",
   "execution_count": 3,
   "id": "2b399d8d",
   "metadata": {},
   "outputs": [
    {
     "data": {
      "text/plain": [
       "False"
      ]
     },
     "execution_count": 3,
     "metadata": {},
     "output_type": "execute_result"
    }
   ],
   "source": [
    "all([1, 2, 3, 0]) # 0은 F라서 펄스 출력"
   ]
  },
  {
   "cell_type": "code",
   "execution_count": 4,
   "id": "2ba6ecbd",
   "metadata": {},
   "outputs": [
    {
     "data": {
      "text/plain": [
       "True"
      ]
     },
     "execution_count": 4,
     "metadata": {},
     "output_type": "execute_result"
    }
   ],
   "source": [
    "all([])"
   ]
  },
  {
   "cell_type": "code",
   "execution_count": 5,
   "id": "ab55c0ec",
   "metadata": {},
   "outputs": [
    {
     "data": {
      "text/plain": [
       "True"
      ]
     },
     "execution_count": 5,
     "metadata": {},
     "output_type": "execute_result"
    }
   ],
   "source": [
    "# any\n",
    "# 반복 가능한 데이터 x를 입력으로 받아 \n",
    "# x의 요소 중 하나라도 참이 있으면 True를 리턴하고 x가 모두 거짓일 때만 False를 리턴\n",
    "# 즉, all(x)의 반대로 작동\n",
    "\n",
    "any([1, 2, 3, 0])"
   ]
  },
  {
   "cell_type": "code",
   "execution_count": 6,
   "id": "897a4699",
   "metadata": {},
   "outputs": [
    {
     "data": {
      "text/plain": [
       "False"
      ]
     },
     "execution_count": 6,
     "metadata": {},
     "output_type": "execute_result"
    }
   ],
   "source": [
    "any([0, \"\"])"
   ]
  },
  {
   "cell_type": "code",
   "execution_count": 8,
   "id": "d294d69a",
   "metadata": {},
   "outputs": [
    {
     "data": {
      "text/plain": [
       "('a', '가')"
      ]
     },
     "execution_count": 8,
     "metadata": {},
     "output_type": "execute_result"
    }
   ],
   "source": [
    "# chr\n",
    "# 유니코드 숫자 값을 입력받아 그 코드에 해당하는 문자를 리턴하는 함수\n",
    "chr(97), chr(44032)"
   ]
  },
  {
   "cell_type": "code",
   "execution_count": 9,
   "id": "7897767e",
   "metadata": {},
   "outputs": [
    {
     "data": {
      "text/plain": [
       "['__add__',\n",
       " '__class__',\n",
       " '__class_getitem__',\n",
       " '__contains__',\n",
       " '__delattr__',\n",
       " '__delitem__',\n",
       " '__dir__',\n",
       " '__doc__',\n",
       " '__eq__',\n",
       " '__format__',\n",
       " '__ge__',\n",
       " '__getattribute__',\n",
       " '__getitem__',\n",
       " '__getstate__',\n",
       " '__gt__',\n",
       " '__hash__',\n",
       " '__iadd__',\n",
       " '__imul__',\n",
       " '__init__',\n",
       " '__init_subclass__',\n",
       " '__iter__',\n",
       " '__le__',\n",
       " '__len__',\n",
       " '__lt__',\n",
       " '__mul__',\n",
       " '__ne__',\n",
       " '__new__',\n",
       " '__reduce__',\n",
       " '__reduce_ex__',\n",
       " '__repr__',\n",
       " '__reversed__',\n",
       " '__rmul__',\n",
       " '__setattr__',\n",
       " '__setitem__',\n",
       " '__sizeof__',\n",
       " '__str__',\n",
       " '__subclasshook__',\n",
       " 'append',\n",
       " 'clear',\n",
       " 'copy',\n",
       " 'count',\n",
       " 'extend',\n",
       " 'index',\n",
       " 'insert',\n",
       " 'pop',\n",
       " 'remove',\n",
       " 'reverse',\n",
       " 'sort']"
      ]
     },
     "execution_count": 9,
     "metadata": {},
     "output_type": "execute_result"
    }
   ],
   "source": [
    "# dir\n",
    "#객체가 지닌 변수나 함수를 보여 주는 함수\n",
    "dir([1, 2, 3])"
   ]
  },
  {
   "cell_type": "code",
   "execution_count": 10,
   "id": "48edceaa",
   "metadata": {},
   "outputs": [
    {
     "data": {
      "text/plain": [
       "(2, 1)"
      ]
     },
     "execution_count": 10,
     "metadata": {},
     "output_type": "execute_result"
    }
   ],
   "source": [
    "# divmod\n",
    "# 2개의 숫자 a, b를 입력으로 받는다. 그리고 a를 b로 나눈 몫과 나머지를 튜플로 리턴\n",
    "divmod(7, 3)"
   ]
  },
  {
   "cell_type": "code",
   "execution_count": 11,
   "id": "8ee6740d",
   "metadata": {},
   "outputs": [
    {
     "name": "stdout",
     "output_type": "stream",
     "text": [
      "0 body\n",
      "1 foo\n",
      "2 bar\n"
     ]
    }
   ],
   "source": [
    "# enumerate ******************많이 사용함\n",
    "# 순서가 있는 데이터(리스트, 튜플, 문자열)를 입력으로 받아 인덱스 값을 포함하는 enumerate 객체를 리턴\n",
    "\n",
    "for i, name in enumerate(['body', 'foo', 'bar']):\n",
    "    print(i, name)"
   ]
  },
  {
   "cell_type": "code",
   "execution_count": 12,
   "id": "2d7ae6b4",
   "metadata": {},
   "outputs": [
    {
     "data": {
      "text/plain": [
       "3"
      ]
     },
     "execution_count": 12,
     "metadata": {},
     "output_type": "execute_result"
    }
   ],
   "source": [
    "# eval\n",
    "# 문자열로 구성된 표현식을 입력으로 받아 해당 문자열을 실행한 결괏값을 리턴\n",
    "eval('1+2')"
   ]
  },
  {
   "cell_type": "code",
   "execution_count": 13,
   "id": "a215caab",
   "metadata": {},
   "outputs": [],
   "source": [
    "# filter ******************중요함\n",
    "# 첫 번째 인수로 함수, 두 번째 인수로 그 함수에 차례로 들어갈 반복 가능한 데이터를 받는다.\n",
    "# 반복 가능한 데이터의 요소 순서대로 함수를 호출했을 때 리턴값이 참인 것만 묶어서(걸러 내서) 리턴\n",
    "\n",
    "def positive(l): \n",
    "    result = [] \n",
    "    for i in l: \n",
    "        if i > 0: \n",
    "            result.append(i) \n",
    "    return result\n",
    "\n",
    "print(positive([1,-3,2,0,-5,6]))"
   ]
  },
  {
   "cell_type": "code",
   "execution_count": 14,
   "id": "212378f4",
   "metadata": {},
   "outputs": [
    {
     "name": "stdout",
     "output_type": "stream",
     "text": [
      "[1, 2, 6]\n"
     ]
    }
   ],
   "source": [
    "# filter 함수를 사용하면 위 내용을 다음과 같이 간단하게 작성\n",
    "\n",
    "def positive(x):\n",
    "    return x > 0\n",
    "\n",
    "print(list(filter(positive, [1, -3, 2, 0, -5, 6])))"
   ]
  },
  {
   "cell_type": "code",
   "execution_count": 15,
   "id": "4e7bf56e",
   "metadata": {},
   "outputs": [
    {
     "data": {
      "text/plain": [
       "<filter at 0x29fb3671b40>"
      ]
     },
     "execution_count": 15,
     "metadata": {},
     "output_type": "execute_result"
    }
   ],
   "source": [
    "filter(positive, [1, -3, 2, 0, -5, 6])"
   ]
  },
  {
   "cell_type": "code",
   "execution_count": 16,
   "id": "8ea35c9d",
   "metadata": {},
   "outputs": [
    {
     "data": {
      "text/plain": [
       "[1, 2, 6]"
      ]
     },
     "execution_count": 16,
     "metadata": {},
     "output_type": "execute_result"
    }
   ],
   "source": [
    "list(filter(lambda x: x > 0, [1, -3, 2, 0, -5, 6]))"
   ]
  },
  {
   "cell_type": "code",
   "execution_count": 17,
   "id": "ad72ed58",
   "metadata": {},
   "outputs": [],
   "source": [
    "# hex\n"
   ]
  },
  {
   "cell_type": "code",
   "execution_count": 18,
   "id": "baf82684",
   "metadata": {},
   "outputs": [],
   "source": [
    "# id\n"
   ]
  },
  {
   "cell_type": "code",
   "execution_count": 19,
   "id": "d2ef7411",
   "metadata": {},
   "outputs": [],
   "source": [
    "# input\n"
   ]
  },
  {
   "cell_type": "code",
   "execution_count": 20,
   "id": "f901f98c",
   "metadata": {},
   "outputs": [],
   "source": [
    "# int\n"
   ]
  },
  {
   "cell_type": "code",
   "execution_count": 21,
   "id": "8cee381d",
   "metadata": {},
   "outputs": [],
   "source": [
    "# isinstance\n",
    "# 입력으로 받은 객체가 그 클래스의 인스턴스인지를 판단\n"
   ]
  },
  {
   "cell_type": "code",
   "execution_count": 22,
   "id": "9f2e8ab6",
   "metadata": {},
   "outputs": [],
   "source": [
    "# len"
   ]
  },
  {
   "cell_type": "code",
   "execution_count": 23,
   "id": "0837eb7f",
   "metadata": {},
   "outputs": [],
   "source": [
    "# list"
   ]
  },
  {
   "cell_type": "code",
   "execution_count": 24,
   "id": "2136dad5",
   "metadata": {},
   "outputs": [
    {
     "name": "stdout",
     "output_type": "stream",
     "text": [
      "[2, 4, 6, 8]\n"
     ]
    }
   ],
   "source": [
    "# map ******************중요함\n",
    "# map(f, iterable)은 함수(f)와 반복 가능한 데이터를 입력으로 받는다.\n",
    "# 입력받은 데이터의 각 요소에 함수 f를 적용한 결과를 리턴하는 함수\n",
    "\n",
    "def two_times(numberList):\n",
    "    result = []\n",
    "    for number in numberList:\n",
    "        result.append(number*2)\n",
    "    return result\n",
    "\n",
    "result = two_times([1, 2, 3, 4])\n",
    "print(result)"
   ]
  },
  {
   "cell_type": "code",
   "execution_count": 25,
   "id": "83c88573",
   "metadata": {},
   "outputs": [
    {
     "data": {
      "text/plain": [
       "[2, 4, 6, 8]"
      ]
     },
     "execution_count": 25,
     "metadata": {},
     "output_type": "execute_result"
    }
   ],
   "source": [
    "# 위 예제는 map 함수를 사용하여 다음처럼 바꿀 수 있다.\n",
    "\n",
    "def two_times(x): \n",
    "    return x*2\n",
    "\n",
    "list(map(two_times, [1, 2, 3, 4]))"
   ]
  },
  {
   "cell_type": "code",
   "execution_count": 27,
   "id": "883cef1c",
   "metadata": {},
   "outputs": [
    {
     "data": {
      "text/plain": [
       "[2, 4, 6, 8]"
      ]
     },
     "execution_count": 27,
     "metadata": {},
     "output_type": "execute_result"
    }
   ],
   "source": [
    "# 앞의 예는 lambda를 사용하여 다음처럼 간략하게 만들 수 있다.\n",
    "\n",
    "list(map(lambda a: a*2, [1, 2, 3, 4]))"
   ]
  },
  {
   "cell_type": "code",
   "execution_count": 28,
   "id": "53c1c3b8",
   "metadata": {},
   "outputs": [
    {
     "data": {
      "text/plain": [
       "3"
      ]
     },
     "execution_count": 28,
     "metadata": {},
     "output_type": "execute_result"
    }
   ],
   "source": [
    "# max\n",
    "# 인수로 반복 가능한 데이터를 입력받아 그 최댓값을 리턴\n",
    "# 문자도 : 아스키코드\n",
    "\n",
    "max([1, 2, 3])"
   ]
  },
  {
   "cell_type": "code",
   "execution_count": 29,
   "id": "e0344d9a",
   "metadata": {},
   "outputs": [
    {
     "data": {
      "text/plain": [
       "1"
      ]
     },
     "execution_count": 29,
     "metadata": {},
     "output_type": "execute_result"
    }
   ],
   "source": [
    "# min\n",
    "#  인수로 반복 가능한 데이터를 입력받아 그 최솟값을 리턴\n",
    "\n",
    "min([1, 2, 3])"
   ]
  },
  {
   "cell_type": "code",
   "execution_count": 30,
   "id": "ef32e895",
   "metadata": {},
   "outputs": [],
   "source": [
    "# oct\n"
   ]
  },
  {
   "cell_type": "code",
   "execution_count": 31,
   "id": "c6fdb0dd",
   "metadata": {},
   "outputs": [],
   "source": [
    "# open"
   ]
  },
  {
   "cell_type": "code",
   "execution_count": 32,
   "id": "071174f7",
   "metadata": {},
   "outputs": [],
   "source": [
    "# ord"
   ]
  },
  {
   "cell_type": "code",
   "execution_count": 34,
   "id": "cd153f7f",
   "metadata": {},
   "outputs": [
    {
     "data": {
      "text/plain": [
       "16"
      ]
     },
     "execution_count": 34,
     "metadata": {},
     "output_type": "execute_result"
    }
   ],
   "source": [
    "# pow\n",
    "# pow(x, y)는 x를 y제곱한 결괏값을 리턴\n",
    "\n",
    "pow(2, 4)"
   ]
  },
  {
   "cell_type": "code",
   "execution_count": 36,
   "id": "22632363",
   "metadata": {},
   "outputs": [],
   "source": [
    "# range ************************중요함\n",
    "\n",
    "# 인수가 하나일 경우 : 시작 숫자를 지정해 주지 않으면 range 함수는 0부터 시작\n",
    "# 인수가 2개일 경우 : 시작 숫자와 끝 숫자. 단, 끝 숫자는 해당 범위에 포함되지 않는다\n",
    "# 인수가 3개일 경우 : 세 번째 인수는 숫자 사이의 거리를 말한다."
   ]
  },
  {
   "cell_type": "code",
   "execution_count": 37,
   "id": "2fe9a707",
   "metadata": {},
   "outputs": [
    {
     "data": {
      "text/plain": [
       "5.68"
      ]
     },
     "execution_count": 37,
     "metadata": {},
     "output_type": "execute_result"
    }
   ],
   "source": [
    "# round\n",
    "# round(number [,ndigits])는 숫자를 입력받아 반올림해 리턴\n",
    "\n",
    "round(5.678, 2)"
   ]
  },
  {
   "cell_type": "code",
   "execution_count": 38,
   "id": "507163db",
   "metadata": {},
   "outputs": [
    {
     "data": {
      "text/plain": [
       "[1, 2, 3]"
      ]
     },
     "execution_count": 38,
     "metadata": {},
     "output_type": "execute_result"
    }
   ],
   "source": [
    "# sorted\n",
    "# 입력 데이터를 정렬한 후 그 결과를 리스트로 리턴\n",
    "\n",
    "sorted([3, 1, 2])"
   ]
  },
  {
   "cell_type": "code",
   "execution_count": 39,
   "id": "0196a670",
   "metadata": {},
   "outputs": [],
   "source": [
    "# str"
   ]
  },
  {
   "cell_type": "code",
   "execution_count": 40,
   "id": "4abf8df0",
   "metadata": {},
   "outputs": [
    {
     "data": {
      "text/plain": [
       "6"
      ]
     },
     "execution_count": 40,
     "metadata": {},
     "output_type": "execute_result"
    }
   ],
   "source": [
    "# sum\n",
    "sum([1,2,3])"
   ]
  },
  {
   "cell_type": "code",
   "execution_count": 41,
   "id": "51a0954a",
   "metadata": {},
   "outputs": [],
   "source": [
    "# tuple"
   ]
  },
  {
   "cell_type": "code",
   "execution_count": 42,
   "id": "2fcaa98f",
   "metadata": {},
   "outputs": [],
   "source": [
    "# type"
   ]
  },
  {
   "cell_type": "code",
   "execution_count": 43,
   "id": "604522b0",
   "metadata": {},
   "outputs": [
    {
     "data": {
      "text/plain": [
       "[(1, 4), (2, 5), (3, 6)]"
      ]
     },
     "execution_count": 43,
     "metadata": {},
     "output_type": "execute_result"
    }
   ],
   "source": [
    "# zip **************************중요함\n",
    "# 동일한 개수로 이루어진 데이터들을 묶어서 리턴\n",
    "\n",
    "list(zip([1, 2, 3], [4, 5, 6]))"
   ]
  },
  {
   "cell_type": "code",
   "execution_count": null,
   "id": "61b1bb33",
   "metadata": {},
   "outputs": [],
   "source": []
  }
 ],
 "metadata": {
  "kernelspec": {
   "display_name": "Python 3 (ipykernel)",
   "language": "python",
   "name": "python3"
  },
  "language_info": {
   "codemirror_mode": {
    "name": "ipython",
    "version": 3
   },
   "file_extension": ".py",
   "mimetype": "text/x-python",
   "name": "python",
   "nbconvert_exporter": "python",
   "pygments_lexer": "ipython3",
   "version": "3.11.5"
  }
 },
 "nbformat": 4,
 "nbformat_minor": 5
}
