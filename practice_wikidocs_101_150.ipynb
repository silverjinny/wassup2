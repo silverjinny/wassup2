{
 "cells": [
  {
   "cell_type": "code",
   "execution_count": 2,
   "id": "796a739e",
   "metadata": {},
   "outputs": [],
   "source": [
    "#101\n",
    "#bool type"
   ]
  },
  {
   "cell_type": "code",
   "execution_count": 3,
   "id": "b0c5254a",
   "metadata": {},
   "outputs": [
    {
     "name": "stdout",
     "output_type": "stream",
     "text": [
      "False\n"
     ]
    }
   ],
   "source": [
    "#102\n",
    "print(3 == 5)"
   ]
  },
  {
   "cell_type": "code",
   "execution_count": 4,
   "id": "a9863234",
   "metadata": {},
   "outputs": [
    {
     "name": "stdout",
     "output_type": "stream",
     "text": [
      "True\n"
     ]
    }
   ],
   "source": [
    "#103\n",
    "print(3 < 5)"
   ]
  },
  {
   "cell_type": "code",
   "execution_count": 5,
   "id": "c3f5af90",
   "metadata": {},
   "outputs": [
    {
     "name": "stdout",
     "output_type": "stream",
     "text": [
      "True\n"
     ]
    }
   ],
   "source": [
    "#104\n",
    "x = 4\n",
    "print(1 < x < 5)"
   ]
  },
  {
   "cell_type": "code",
   "execution_count": 6,
   "id": "fd5537a0",
   "metadata": {},
   "outputs": [
    {
     "name": "stdout",
     "output_type": "stream",
     "text": [
      "True\n"
     ]
    }
   ],
   "source": [
    "#105\n",
    "print ((3 == 3) and (4 != 3))"
   ]
  },
  {
   "cell_type": "code",
   "execution_count": 7,
   "id": "9950fab1",
   "metadata": {},
   "outputs": [
    {
     "ename": "SyntaxError",
     "evalue": "expression cannot contain assignment, perhaps you meant \"==\"? (1388253076.py, line 2)",
     "output_type": "error",
     "traceback": [
      "\u001b[1;36m  Cell \u001b[1;32mIn[7], line 2\u001b[1;36m\u001b[0m\n\u001b[1;33m    print(3 => 4)\u001b[0m\n\u001b[1;37m          ^\u001b[0m\n\u001b[1;31mSyntaxError\u001b[0m\u001b[1;31m:\u001b[0m expression cannot contain assignment, perhaps you meant \"==\"?\n"
     ]
    }
   ],
   "source": [
    "#106\n",
    "print(3 => 4)\n",
    "# >="
   ]
  },
  {
   "cell_type": "code",
   "execution_count": 8,
   "id": "5e414aab",
   "metadata": {},
   "outputs": [],
   "source": [
    "#107\n",
    "if 4 < 3:\n",
    "    print(\"Hello World\")"
   ]
  },
  {
   "cell_type": "code",
   "execution_count": 9,
   "id": "5536652c",
   "metadata": {},
   "outputs": [
    {
     "name": "stdout",
     "output_type": "stream",
     "text": [
      "Hi, there.\n"
     ]
    }
   ],
   "source": [
    "#108\n",
    "if 4 < 3:\n",
    "    print(\"Hello World.\")\n",
    "else:\n",
    "    print(\"Hi, there.\")"
   ]
  },
  {
   "cell_type": "code",
   "execution_count": 10,
   "id": "6b062ff9",
   "metadata": {},
   "outputs": [
    {
     "name": "stdout",
     "output_type": "stream",
     "text": [
      "1\n",
      "2\n",
      "4\n"
     ]
    }
   ],
   "source": [
    "#109\n",
    "if True :\n",
    "    print (\"1\")\n",
    "    print (\"2\")\n",
    "else :\n",
    "    print(\"3\")\n",
    "print(\"4\")"
   ]
  },
  {
   "cell_type": "code",
   "execution_count": 11,
   "id": "159756c1",
   "metadata": {},
   "outputs": [
    {
     "name": "stdout",
     "output_type": "stream",
     "text": [
      "3\n",
      "5\n"
     ]
    }
   ],
   "source": [
    "#110\n",
    "if True :\n",
    "    if False:\n",
    "        print(\"1\")\n",
    "        print(\"2\")\n",
    "    else:\n",
    "        print(\"3\")\n",
    "else :\n",
    "    print(\"4\")\n",
    "print(\"5\")"
   ]
  },
  {
   "cell_type": "code",
   "execution_count": 15,
   "id": "f0eda9d4",
   "metadata": {},
   "outputs": [
    {
     "name": "stdout",
     "output_type": "stream",
     "text": [
      "하이\n",
      "하이하이\n"
     ]
    }
   ],
   "source": [
    "#111\n",
    "user=input()\n",
    "print(user*2)"
   ]
  },
  {
   "cell_type": "code",
   "execution_count": 18,
   "id": "ab64992f",
   "metadata": {},
   "outputs": [
    {
     "name": "stdout",
     "output_type": "stream",
     "text": [
      "숫자 입력하세요:5\n",
      "15\n"
     ]
    }
   ],
   "source": [
    "#112\n",
    "user=input('숫자 입력하세요:')\n",
    "user1=int(user)\n",
    "print(user1+10)"
   ]
  },
  {
   "cell_type": "code",
   "execution_count": 20,
   "id": "45f0b867",
   "metadata": {},
   "outputs": [
    {
     "name": "stdout",
     "output_type": "stream",
     "text": [
      "숫자 입력하세요:6\n",
      "짝수\n"
     ]
    }
   ],
   "source": [
    "#113\n",
    "user=int(input('숫자 입력하세요:'))\n",
    "if user%2 == 0:\n",
    "    print('짝수')\n",
    "else:\n",
    "    print('홀수')"
   ]
  },
  {
   "cell_type": "code",
   "execution_count": 23,
   "id": "51ca1268",
   "metadata": {},
   "outputs": [
    {
     "name": "stdout",
     "output_type": "stream",
     "text": [
      "숫자 입력하세요:240\n",
      "255\n"
     ]
    }
   ],
   "source": [
    "#114\n",
    "user=int(input('숫자 입력하세요:'))\n",
    "if user+20 > 255:\n",
    "    print('255')\n",
    "else:\n",
    "    print(user+20)\n"
   ]
  },
  {
   "cell_type": "code",
   "execution_count": 33,
   "id": "05b2ed9c",
   "metadata": {},
   "outputs": [
    {
     "name": "stdout",
     "output_type": "stream",
     "text": [
      "숫자 입력하세요:280\n",
      "255\n"
     ]
    }
   ],
   "source": [
    "#115\n",
    "user=int(input('숫자 입력하세요:'))\n",
    "user1 = user - 20\n",
    "\n",
    "if user1 < 0:\n",
    "    print('0')\n",
    "elif user1 > 255:\n",
    "    print('255')\n",
    "else :\n",
    "    print(user1)\n"
   ]
  },
  {
   "cell_type": "code",
   "execution_count": 36,
   "id": "32b07208",
   "metadata": {},
   "outputs": [
    {
     "name": "stdout",
     "output_type": "stream",
     "text": [
      "시간을 입력하세요:20:00\n",
      "정각 입니다.\n"
     ]
    }
   ],
   "source": [
    "#116\n",
    "time = input('시간을 입력하세요:')\n",
    "if time[-2:] == '00':\n",
    "    print('정각 입니다.')\n",
    "else :\n",
    "    print('정각이 아닙니다.') "
   ]
  },
  {
   "cell_type": "code",
   "execution_count": 34,
   "id": "c9278eab",
   "metadata": {},
   "outputs": [
    {
     "name": "stdout",
     "output_type": "stream",
     "text": [
      "12\n"
     ]
    }
   ],
   "source": [
    "time='10:12'\n",
    "print(time[-2:])"
   ]
  },
  {
   "cell_type": "code",
   "execution_count": 38,
   "id": "1bbc50f2",
   "metadata": {},
   "outputs": [
    {
     "name": "stdout",
     "output_type": "stream",
     "text": [
      "은진스가 좋아하는 과일은?:바나나\n",
      "오답입니다.\n"
     ]
    }
   ],
   "source": [
    "#117\n",
    "fruit = [\"사과\", \"포도\", \"홍시\"]\n",
    "user = input('은진스가 좋아하는 과일은?:')\n",
    "\n",
    "if user in fruit:\n",
    "    print('정답입니다.')\n",
    "else :\n",
    "    print('오답입니다.')\n",
    "    "
   ]
  },
  {
   "cell_type": "code",
   "execution_count": 40,
   "id": "800fed0f",
   "metadata": {},
   "outputs": [
    {
     "name": "stdout",
     "output_type": "stream",
     "text": [
      "투자 경고 종목 검색:wihi\n",
      "투자 경고 종목이 아닙니다.\n"
     ]
    }
   ],
   "source": [
    "#118\n",
    "warn_investment_list = [\"Microsoft\", \"Google\", \"Naver\", \"Kakao\", \"SAMSUNG\", \"LG\"]\n",
    "user = input('투자 경고 종목 검색:')\n",
    "\n",
    "if user in warn_investment_list:\n",
    "    print('투자 경고 종목입니다')\n",
    "else :\n",
    "    print('투자 경고 종목이 아닙니다.')"
   ]
  },
  {
   "cell_type": "code",
   "execution_count": 43,
   "id": "5d76d5e1",
   "metadata": {},
   "outputs": [
    {
     "name": "stdout",
     "output_type": "stream",
     "text": [
      "은진스가 좋아하는 계절은?:봄\n",
      "정답입니다\n"
     ]
    }
   ],
   "source": [
    "##119\n",
    "fruit = {\"봄\" : \"딸기\", \"여름\" : \"토마토\", \"가을\" : \"사과\"}\n",
    "user = input('은진스가 좋아하는 계절은?:')\n",
    "\n",
    "if user in fruit.keys():\n",
    "    print(\"정답입니다\")\n",
    "else :\n",
    "    print(\"오답입니다\")"
   ]
  },
  {
   "cell_type": "code",
   "execution_count": 45,
   "id": "83d4eb06",
   "metadata": {},
   "outputs": [
    {
     "name": "stdout",
     "output_type": "stream",
     "text": [
      "은진스가 좋아하는 과일은?:토마토\n",
      "정답입니다\n"
     ]
    }
   ],
   "source": [
    "#120\n",
    "fruit = {\"봄\" : \"딸기\", \"여름\" : \"토마토\", \"가을\" : \"사과\"}\n",
    "user = input('은진스가 좋아하는 과일은?:')\n",
    "\n",
    "if user in fruit.values():\n",
    "    print(\"정답입니다\")\n",
    "else :\n",
    "    print(\"오답입니다\")"
   ]
  },
  {
   "cell_type": "code",
   "execution_count": 47,
   "id": "cb4a0804",
   "metadata": {},
   "outputs": [
    {
     "name": "stdout",
     "output_type": "stream",
     "text": [
      "문자를 입력하세요 : A\n",
      "a\n"
     ]
    }
   ],
   "source": [
    "#121\n",
    "user = input('문자를 입력하세요 : ')\n",
    "user1 = user.islower()\n",
    "\n",
    "if user1 == True:\n",
    "    print(user.upper())\n",
    "else :\n",
    "    print(user.lower())"
   ]
  },
  {
   "cell_type": "code",
   "execution_count": 50,
   "id": "0b44bd0f",
   "metadata": {},
   "outputs": [
    {
     "name": "stdout",
     "output_type": "stream",
     "text": [
      "점수를 입력하세요 : 50\n",
      "C\n"
     ]
    }
   ],
   "source": [
    "#122\n",
    "user = int(input('점수를 입력하세요 : '))\n",
    "\n",
    "if 81 <= user <= 100:\n",
    "    print('A')\n",
    "elif 61 <= user <= 80:\n",
    "    print('B')\n",
    "elif 41 <= user <= 60:\n",
    "    print('C')\n",
    "elif 21 <= user <= 40:\n",
    "    print('D')\n",
    "elif 0 <= user <= 20:\n",
    "    print('E')\n",
    "else:\n",
    "    print('올바른 점수를 입력하세요')"
   ]
  },
  {
   "cell_type": "code",
   "execution_count": 51,
   "id": "eb9f7101",
   "metadata": {},
   "outputs": [
    {
     "name": "stdout",
     "output_type": "stream",
     "text": [
      "입력하세요 : 10 달러\n",
      "11670.0 원\n"
     ]
    }
   ],
   "source": [
    "#123 #댕어려움...................\n",
    "환율 = {'달러' : 1167, '엔' : 1.096, '유로':1268, '위안':171}\n",
    "user = input('입력하세요 : ')\n",
    "\n",
    "num, currency = user.split()\n",
    "print(float(num)*환율[currency], '원')"
   ]
  },
  {
   "cell_type": "code",
   "execution_count": 55,
   "id": "960f2778",
   "metadata": {},
   "outputs": [
    {
     "name": "stdout",
     "output_type": "stream",
     "text": [
      "','로 구분하여 3개의 숫자를 입력하세요 : 1,2,3\n",
      "3\n"
     ]
    }
   ],
   "source": [
    "#124\n",
    "user = input(\"','로 구분하여 3개의 숫자를 입력하세요 : \")\n",
    "\n",
    "user1 = user.split(',')\n",
    "print(max(user1))"
   ]
  },
  {
   "cell_type": "code",
   "execution_count": 57,
   "id": "c0a1acb6",
   "metadata": {},
   "outputs": [
    {
     "name": "stdout",
     "output_type": "stream",
     "text": [
      "'-'없이 전화번호를 입력하세요:016\n",
      "당신은 KT 사용자입니다.\n"
     ]
    }
   ],
   "source": [
    "#125\n",
    "user = input(\"'-'없이 전화번호를 입력하세요:\")\n",
    "user1 = user[:4]\n",
    "\n",
    "if user1 == '011':\n",
    "    num = 'SKT'\n",
    "elif user1 == '016':\n",
    "    num = 'KT'\n",
    "elif user1 == '019':\n",
    "    num = 'LGU'\n",
    "else :\n",
    "    num = '알 수 없음'\n",
    "print(f\"당신은 {num} 사용자입니다.\")"
   ]
  },
  {
   "cell_type": "code",
   "execution_count": 67,
   "id": "74dcc348",
   "metadata": {},
   "outputs": [
    {
     "name": "stdout",
     "output_type": "stream",
     "text": [
      "우편번호를 입력하세요 : 016555\n",
      "노원구\n"
     ]
    }
   ],
   "source": [
    "#126\n",
    "user = input(\"우편번호를 입력하세요 : \")\n",
    "user1 = user[:3]\n",
    "\n",
    "if user1 in ['010','011','012']:\n",
    "    print('강북구')\n",
    "elif user1 in ['013','014','015']:\n",
    "    print('도봉구')\n",
    "elif user1 in ['016', '017','018','019']:\n",
    "    print('노원구')\n",
    "else : \n",
    "    print('그 외 지역')"
   ]
  },
  {
   "cell_type": "code",
   "execution_count": 69,
   "id": "72b0374a",
   "metadata": {},
   "outputs": [
    {
     "name": "stdout",
     "output_type": "stream",
     "text": [
      "주민번호를 입력하세요 : 000000-12222222\n",
      "남자\n"
     ]
    }
   ],
   "source": [
    "#127\n",
    "user = input(\"주민번호를 입력하세요 : \")\n",
    "user1 = user.split('-')[1]\n",
    "\n",
    "if user1[0] == '1':\n",
    "    print('남자')\n",
    "else :\n",
    "    print('여자')"
   ]
  },
  {
   "cell_type": "code",
   "execution_count": null,
   "id": "f865bb18",
   "metadata": {},
   "outputs": [],
   "source": [
    "#128\n",
    "user = input(\"주민번호를 입력하세요 : \")\n",
    "user1 = user.split('-')[1]\n",
    "\n",
    "if 0 <= int(user1[1:3]) <= 8:\n",
    "    print('서울입니다.')\n",
    "else : \n",
    "    print('서울이 아닙니다.')"
   ]
  },
  {
   "cell_type": "code",
   "execution_count": 76,
   "id": "c610b9bd",
   "metadata": {},
   "outputs": [
    {
     "ename": "KeyboardInterrupt",
     "evalue": "Interrupted by user",
     "output_type": "error",
     "traceback": [
      "\u001b[1;31m---------------------------------------------------------------------------\u001b[0m",
      "\u001b[1;31mKeyboardInterrupt\u001b[0m                         Traceback (most recent call last)",
      "Cell \u001b[1;32mIn[76], line 2\u001b[0m\n\u001b[0;32m      1\u001b[0m \u001b[38;5;66;03m#129\u001b[39;00m\n\u001b[1;32m----> 2\u001b[0m user \u001b[38;5;241m=\u001b[39m \u001b[38;5;28minput\u001b[39m(\u001b[38;5;124m\"\u001b[39m\u001b[38;5;124m주민번호를 입력하세요 : \u001b[39m\u001b[38;5;124m\"\u001b[39m)\n",
      "File \u001b[1;32m~\\anaconda3\\Lib\\site-packages\\ipykernel\\kernelbase.py:1202\u001b[0m, in \u001b[0;36mKernel.raw_input\u001b[1;34m(self, prompt)\u001b[0m\n\u001b[0;32m   1200\u001b[0m     msg \u001b[38;5;241m=\u001b[39m \u001b[38;5;124m\"\u001b[39m\u001b[38;5;124mraw_input was called, but this frontend does not support input requests.\u001b[39m\u001b[38;5;124m\"\u001b[39m\n\u001b[0;32m   1201\u001b[0m     \u001b[38;5;28;01mraise\u001b[39;00m StdinNotImplementedError(msg)\n\u001b[1;32m-> 1202\u001b[0m \u001b[38;5;28;01mreturn\u001b[39;00m \u001b[38;5;28mself\u001b[39m\u001b[38;5;241m.\u001b[39m_input_request(\n\u001b[0;32m   1203\u001b[0m     \u001b[38;5;28mstr\u001b[39m(prompt),\n\u001b[0;32m   1204\u001b[0m     \u001b[38;5;28mself\u001b[39m\u001b[38;5;241m.\u001b[39m_parent_ident[\u001b[38;5;124m\"\u001b[39m\u001b[38;5;124mshell\u001b[39m\u001b[38;5;124m\"\u001b[39m],\n\u001b[0;32m   1205\u001b[0m     \u001b[38;5;28mself\u001b[39m\u001b[38;5;241m.\u001b[39mget_parent(\u001b[38;5;124m\"\u001b[39m\u001b[38;5;124mshell\u001b[39m\u001b[38;5;124m\"\u001b[39m),\n\u001b[0;32m   1206\u001b[0m     password\u001b[38;5;241m=\u001b[39m\u001b[38;5;28;01mFalse\u001b[39;00m,\n\u001b[0;32m   1207\u001b[0m )\n",
      "File \u001b[1;32m~\\anaconda3\\Lib\\site-packages\\ipykernel\\kernelbase.py:1245\u001b[0m, in \u001b[0;36mKernel._input_request\u001b[1;34m(self, prompt, ident, parent, password)\u001b[0m\n\u001b[0;32m   1242\u001b[0m \u001b[38;5;28;01mexcept\u001b[39;00m \u001b[38;5;167;01mKeyboardInterrupt\u001b[39;00m:\n\u001b[0;32m   1243\u001b[0m     \u001b[38;5;66;03m# re-raise KeyboardInterrupt, to truncate traceback\u001b[39;00m\n\u001b[0;32m   1244\u001b[0m     msg \u001b[38;5;241m=\u001b[39m \u001b[38;5;124m\"\u001b[39m\u001b[38;5;124mInterrupted by user\u001b[39m\u001b[38;5;124m\"\u001b[39m\n\u001b[1;32m-> 1245\u001b[0m     \u001b[38;5;28;01mraise\u001b[39;00m \u001b[38;5;167;01mKeyboardInterrupt\u001b[39;00m(msg) \u001b[38;5;28;01mfrom\u001b[39;00m \u001b[38;5;28;01mNone\u001b[39;00m\n\u001b[0;32m   1246\u001b[0m \u001b[38;5;28;01mexcept\u001b[39;00m \u001b[38;5;167;01mException\u001b[39;00m:\n\u001b[0;32m   1247\u001b[0m     \u001b[38;5;28mself\u001b[39m\u001b[38;5;241m.\u001b[39mlog\u001b[38;5;241m.\u001b[39mwarning(\u001b[38;5;124m\"\u001b[39m\u001b[38;5;124mInvalid Message:\u001b[39m\u001b[38;5;124m\"\u001b[39m, exc_info\u001b[38;5;241m=\u001b[39m\u001b[38;5;28;01mTrue\u001b[39;00m)\n",
      "\u001b[1;31mKeyboardInterrupt\u001b[0m: Interrupted by user"
     ]
    }
   ],
   "source": [
    "#129\n",
    "user = input(\"주민번호를 입력하세요 : \")\n"
   ]
  },
  {
   "cell_type": "code",
   "execution_count": 78,
   "id": "2914b239",
   "metadata": {},
   "outputs": [
    {
     "ename": "NameError",
     "evalue": "name 'max_price' is not defined",
     "output_type": "error",
     "traceback": [
      "\u001b[1;31m---------------------------------------------------------------------------\u001b[0m",
      "\u001b[1;31mNameError\u001b[0m                                 Traceback (most recent call last)",
      "Cell \u001b[1;32mIn[78], line 4\u001b[0m\n\u001b[0;32m      2\u001b[0m \u001b[38;5;28;01mimport\u001b[39;00m \u001b[38;5;21;01mrequests\u001b[39;00m\n\u001b[0;32m      3\u001b[0m btc \u001b[38;5;241m=\u001b[39m requests\u001b[38;5;241m.\u001b[39mget(\u001b[38;5;124m\"\u001b[39m\u001b[38;5;124mhttps://api.bithumb.com/public/ticker/\u001b[39m\u001b[38;5;124m\"\u001b[39m)\u001b[38;5;241m.\u001b[39mjson()[\u001b[38;5;124m'\u001b[39m\u001b[38;5;124mdata\u001b[39m\u001b[38;5;124m'\u001b[39m]\n\u001b[1;32m----> 4\u001b[0m 변동폭 \u001b[38;5;241m=\u001b[39m \u001b[38;5;28mfloat\u001b[39m(btc[max_price]) \u001b[38;5;241m-\u001b[39m \u001b[38;5;28mfloat\u001b[39m(btc[min_price])\n\u001b[0;32m      5\u001b[0m 시가 \u001b[38;5;241m=\u001b[39m \u001b[38;5;28mfloat\u001b[39m(btc[opening_price])\n\u001b[0;32m      6\u001b[0m 최고가 \u001b[38;5;241m=\u001b[39m \u001b[38;5;28mfloat\u001b[39m(btc[max_price])\n",
      "\u001b[1;31mNameError\u001b[0m: name 'max_price' is not defined"
     ]
    }
   ],
   "source": [
    "#130\n",
    "import requests\n",
    "btc = requests.get(\"https://api.bithumb.com/public/ticker/\").json()['data']\n",
    "변동폭 = float(btc[max_price]) - float(btc[min_price])\n",
    "시가 = float(btc[opening_price])\n",
    "최고가 = float(btc[max_price])\n",
    "\n",
    "if 시가 + 변동폭 > 최고가 : \n",
    "    print('상승장')\n",
    "else : \n",
    "    print('하락장')"
   ]
  },
  {
   "cell_type": "code",
   "execution_count": 79,
   "id": "c859c81d",
   "metadata": {},
   "outputs": [
    {
     "name": "stdout",
     "output_type": "stream",
     "text": [
      "사과\n",
      "귤\n",
      "수박\n"
     ]
    }
   ],
   "source": [
    "#131\n",
    "과일 = [\"사과\", \"귤\", \"수박\"]\n",
    "for 변수 in 과일:\n",
    "    print(변수)"
   ]
  },
  {
   "cell_type": "code",
   "execution_count": 81,
   "id": "6ca75da7",
   "metadata": {},
   "outputs": [
    {
     "name": "stdout",
     "output_type": "stream",
     "text": [
      "#####\n",
      "#####\n",
      "#####\n"
     ]
    }
   ],
   "source": [
    "#132 #갯수만큼 반복\n",
    "과일 = [\"사과\", \"귤\", \"수박\"]\n",
    "for 변수 in 과일:\n",
    "    print(\"#####\")"
   ]
  },
  {
   "cell_type": "code",
   "execution_count": 83,
   "id": "93fde21a",
   "metadata": {},
   "outputs": [
    {
     "name": "stdout",
     "output_type": "stream",
     "text": [
      "A\n",
      "B\n",
      "C\n"
     ]
    }
   ],
   "source": [
    "#133\n",
    "for 변수 in [\"A\", \"B\", \"C\"]:\n",
    "    print(변수)"
   ]
  },
  {
   "cell_type": "code",
   "execution_count": 85,
   "id": "b14b5d7c",
   "metadata": {},
   "outputs": [
    {
     "name": "stdout",
     "output_type": "stream",
     "text": [
      "A\n",
      "B\n",
      "C\n"
     ]
    }
   ],
   "source": [
    "#133\n",
    "print(\"A\")\n",
    "print(\"B\")\n",
    "print(\"C\")"
   ]
  },
  {
   "cell_type": "code",
   "execution_count": 86,
   "id": "7b2751ca",
   "metadata": {},
   "outputs": [
    {
     "name": "stdout",
     "output_type": "stream",
     "text": [
      "출력: A\n",
      "출력: B\n",
      "출력: C\n"
     ]
    }
   ],
   "source": [
    "#134\n",
    "for 변수 in [\"A\", \"B\", \"C\"]:\n",
    "    print(\"출력:\", 변수)"
   ]
  },
  {
   "cell_type": "code",
   "execution_count": 87,
   "id": "5ec7b060",
   "metadata": {},
   "outputs": [
    {
     "name": "stdout",
     "output_type": "stream",
     "text": [
      "출력: A\n",
      "출력: B\n",
      "출력: C\n"
     ]
    }
   ],
   "source": [
    "변수 = \"A\"\n",
    "print(\"출력:\", 변수)\n",
    "변수 = \"B\"\n",
    "print(\"출력:\", 변수)\n",
    "변수 = \"C\"\n",
    "print(\"출력:\", 변수)"
   ]
  },
  {
   "cell_type": "code",
   "execution_count": 89,
   "id": "c1e28c44",
   "metadata": {},
   "outputs": [
    {
     "name": "stdout",
     "output_type": "stream",
     "text": [
      "변환: c\n"
     ]
    }
   ],
   "source": [
    "#135\n",
    "for 변수 in [\"A\", \"B\", \"C\"]:\n",
    "    b = 변수.lower()\n",
    "print(\"변환:\", b)"
   ]
  },
  {
   "cell_type": "code",
   "execution_count": 91,
   "id": "97ddc6b9",
   "metadata": {},
   "outputs": [
    {
     "name": "stdout",
     "output_type": "stream",
     "text": [
      "변환: a\n",
      "변환: b\n",
      "변환: c\n"
     ]
    }
   ],
   "source": [
    "변수 = \"A\"\n",
    "print(\"변환:\", 변수.lower())\n",
    "변수 = \"B\"\n",
    "print(\"변환:\", 변수.lower())\n",
    "변수 = \"C\"\n",
    "print(\"변환:\", 변수.lower())"
   ]
  },
  {
   "cell_type": "code",
   "execution_count": 94,
   "id": "570e4219",
   "metadata": {},
   "outputs": [
    {
     "name": "stdout",
     "output_type": "stream",
     "text": [
      "10\n",
      "20\n",
      "30\n"
     ]
    }
   ],
   "source": [
    "#136\n",
    "for 변수 in['10', '20', '30'] :\n",
    "    print(변수)"
   ]
  },
  {
   "cell_type": "code",
   "execution_count": 95,
   "id": "28a44e65",
   "metadata": {},
   "outputs": [
    {
     "name": "stdout",
     "output_type": "stream",
     "text": [
      "10\n",
      "20\n",
      "30\n"
     ]
    }
   ],
   "source": [
    "#137\n",
    "for 변수 in['10', '20', '30'] :\n",
    "    print(변수)\n"
   ]
  },
  {
   "cell_type": "code",
   "execution_count": 100,
   "id": "e5813bfc",
   "metadata": {},
   "outputs": [
    {
     "name": "stdout",
     "output_type": "stream",
     "text": [
      "10\n",
      "-------\n",
      "20\n",
      "-------\n",
      "30\n",
      "-------\n"
     ]
    }
   ],
   "source": [
    "#138\n",
    "for 변수 in['10', '20', '30'] :\n",
    "    print(변수)\n",
    "    print(\"-------\")"
   ]
  },
  {
   "cell_type": "code",
   "execution_count": 97,
   "id": "d2c40f49",
   "metadata": {},
   "outputs": [
    {
     "name": "stdout",
     "output_type": "stream",
     "text": [
      "10\n",
      "-------\n",
      "20\n",
      "-------\n",
      "30\n",
      "-------\n"
     ]
    }
   ],
   "source": [
    "print(10)\n",
    "print(\"-------\")\n",
    "print(20)\n",
    "print(\"-------\")\n",
    "print(30)\n",
    "print(\"-------\")"
   ]
  },
  {
   "cell_type": "code",
   "execution_count": 101,
   "id": "e873f9cb",
   "metadata": {},
   "outputs": [
    {
     "name": "stdout",
     "output_type": "stream",
     "text": [
      "++++\n",
      "10\n",
      "20\n",
      "30\n"
     ]
    }
   ],
   "source": [
    "#139\n",
    "print(\"++++\")\n",
    "print(10)\n",
    "print(20)\n",
    "print(30)"
   ]
  },
  {
   "cell_type": "code",
   "execution_count": 103,
   "id": "7b0937f3",
   "metadata": {},
   "outputs": [
    {
     "name": "stdout",
     "output_type": "stream",
     "text": [
      "++++\n",
      "10\n",
      "20\n",
      "30\n"
     ]
    }
   ],
   "source": [
    "print(\"++++\")\n",
    "for 변수 in['10', '20', '30'] :\n",
    "    print(변수)"
   ]
  },
  {
   "cell_type": "code",
   "execution_count": 104,
   "id": "a362ca1a",
   "metadata": {},
   "outputs": [
    {
     "name": "stdout",
     "output_type": "stream",
     "text": [
      "-------\n",
      "-------\n",
      "-------\n",
      "-------\n"
     ]
    }
   ],
   "source": [
    "#140\n",
    "for 변수 in['', '', '', ''] :\n",
    "    print(\"-------\")"
   ]
  },
  {
   "cell_type": "code",
   "execution_count": 105,
   "id": "543ff8ea",
   "metadata": {},
   "outputs": [
    {
     "name": "stdout",
     "output_type": "stream",
     "text": [
      "110\n",
      "210\n",
      "310\n"
     ]
    }
   ],
   "source": [
    "#141\n",
    "for 변수 in [100, 200, 300]:\n",
    "    print(변수+10)\n"
   ]
  },
  {
   "cell_type": "code",
   "execution_count": 106,
   "id": "fdcf7b06",
   "metadata": {},
   "outputs": [
    {
     "name": "stdout",
     "output_type": "stream",
     "text": [
      "오늘의 메뉴: 김밥\n",
      "오늘의 메뉴: 라면\n",
      "오늘의 메뉴: 튀김\n"
     ]
    }
   ],
   "source": [
    "#142\n",
    "리스트 = [\"김밥\", \"라면\", \"튀김\"]\n",
    "for 변수 in 리스트 :\n",
    "    print('오늘의 메뉴: ' + 변수)"
   ]
  },
  {
   "cell_type": "code",
   "execution_count": 107,
   "id": "c77c2385",
   "metadata": {},
   "outputs": [
    {
     "name": "stdout",
     "output_type": "stream",
     "text": [
      "6\n",
      "4\n",
      "4\n"
     ]
    }
   ],
   "source": [
    "#143\n",
    "리스트 = [\"SK하이닉스\", \"삼성전자\", \"LG전자\"]\n",
    "for 변수 in 리스트:\n",
    "    print(len(변수))"
   ]
  },
  {
   "cell_type": "code",
   "execution_count": 112,
   "id": "2479f737",
   "metadata": {},
   "outputs": [
    {
     "name": "stdout",
     "output_type": "stream",
     "text": [
      "d\n",
      "c\n",
      "p\n"
     ]
    }
   ],
   "source": [
    "#144\n",
    "리스트 = ['dog', 'cat', 'parrot']\n",
    "for 동물 in 리스트 :\n",
    "    print(동물[0])"
   ]
  },
  {
   "cell_type": "code",
   "execution_count": 110,
   "id": "9507508d",
   "metadata": {},
   "outputs": [
    {
     "name": "stdout",
     "output_type": "stream",
     "text": [
      "dog 3\n",
      "cat 3\n",
      "parrot 6\n"
     ]
    }
   ],
   "source": [
    "#145\n",
    "리스트 = ['dog', 'cat', 'parrot']\n",
    "for 변수 in 리스트:\n",
    "    print(변수,len(변수))"
   ]
  },
  {
   "cell_type": "code",
   "execution_count": 111,
   "id": "019b2e50",
   "metadata": {},
   "outputs": [
    {
     "name": "stdout",
     "output_type": "stream",
     "text": [
      "3 * 1\n",
      "3 * 2\n",
      "3 * 3\n"
     ]
    }
   ],
   "source": [
    "#146\n",
    "리스트 = [1, 2, 3]\n",
    "for 변수 in 리스트 :\n",
    "    print('3 *', 변수)"
   ]
  },
  {
   "cell_type": "code",
   "execution_count": 113,
   "id": "e2482180",
   "metadata": {},
   "outputs": [
    {
     "name": "stdout",
     "output_type": "stream",
     "text": [
      "3* 1 = 3\n",
      "3* 2 = 6\n",
      "3* 3 = 9\n"
     ]
    }
   ],
   "source": [
    "#147\n",
    "리스트 = [1, 2, 3]\n",
    "for 변수 in 리스트 : \n",
    "    print('3*', 변수, '=', 3*변수)"
   ]
  },
  {
   "cell_type": "code",
   "execution_count": 114,
   "id": "7fc64521",
   "metadata": {},
   "outputs": [
    {
     "name": "stdout",
     "output_type": "stream",
     "text": [
      "나\n",
      "다\n",
      "라\n"
     ]
    }
   ],
   "source": [
    "#148\n",
    "리스트 = [\"가\", \"나\", \"다\", \"라\"]\n",
    "리스트1 = 리스트[1:]\n",
    "\n",
    "for 변수 in 리스트1 : \n",
    "    print(변수)"
   ]
  },
  {
   "cell_type": "code",
   "execution_count": 116,
   "id": "8ae629bf",
   "metadata": {},
   "outputs": [
    {
     "name": "stdout",
     "output_type": "stream",
     "text": [
      "가\n",
      "다\n"
     ]
    }
   ],
   "source": [
    "#149\n",
    "리스트 = [\"가\", \"나\", \"다\", \"라\"]\n",
    "for 변수 in 리스트[::2] : \n",
    "    print(변수)"
   ]
  },
  {
   "cell_type": "code",
   "execution_count": 117,
   "id": "7cf134ea",
   "metadata": {},
   "outputs": [
    {
     "ename": "TypeError",
     "evalue": "'NoneType' object is not iterable",
     "output_type": "error",
     "traceback": [
      "\u001b[1;31m---------------------------------------------------------------------------\u001b[0m",
      "\u001b[1;31mTypeError\u001b[0m                                 Traceback (most recent call last)",
      "Cell \u001b[1;32mIn[117], line 5\u001b[0m\n\u001b[0;32m      2\u001b[0m 리스트 \u001b[38;5;241m=\u001b[39m [\u001b[38;5;124m\"\u001b[39m\u001b[38;5;124m가\u001b[39m\u001b[38;5;124m\"\u001b[39m, \u001b[38;5;124m\"\u001b[39m\u001b[38;5;124m나\u001b[39m\u001b[38;5;124m\"\u001b[39m, \u001b[38;5;124m\"\u001b[39m\u001b[38;5;124m다\u001b[39m\u001b[38;5;124m\"\u001b[39m, \u001b[38;5;124m\"\u001b[39m\u001b[38;5;124m라\u001b[39m\u001b[38;5;124m\"\u001b[39m]\n\u001b[0;32m      3\u001b[0m 리스트1 \u001b[38;5;241m=\u001b[39m 리스트\u001b[38;5;241m.\u001b[39mreverse()\n\u001b[1;32m----> 5\u001b[0m \u001b[38;5;28;01mfor\u001b[39;00m 변수 \u001b[38;5;129;01min\u001b[39;00m 리스트1 : \n\u001b[0;32m      6\u001b[0m     \u001b[38;5;28mprint\u001b[39m(변수)\n",
      "\u001b[1;31mTypeError\u001b[0m: 'NoneType' object is not iterable"
     ]
    }
   ],
   "source": [
    "#150\n",
    "리스트 = [\"가\", \"나\", \"다\", \"라\"]\n",
    "리스트1 = 리스트.reverse()\n",
    "\n",
    "for 변수 in 리스트1 : \n",
    "    print(변수)"
   ]
  },
  {
   "cell_type": "code",
   "execution_count": null,
   "id": "8e7d240c",
   "metadata": {},
   "outputs": [],
   "source": []
  }
 ],
 "metadata": {
  "kernelspec": {
   "display_name": "Python 3 (ipykernel)",
   "language": "python",
   "name": "python3"
  },
  "language_info": {
   "codemirror_mode": {
    "name": "ipython",
    "version": 3
   },
   "file_extension": ".py",
   "mimetype": "text/x-python",
   "name": "python",
   "nbconvert_exporter": "python",
   "pygments_lexer": "ipython3",
   "version": "3.11.5"
  }
 },
 "nbformat": 4,
 "nbformat_minor": 5
}
