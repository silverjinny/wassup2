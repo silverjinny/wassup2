{
 "cells": [
  {
   "cell_type": "code",
   "execution_count": 7,
   "id": "e0502a98",
   "metadata": {},
   "outputs": [
    {
     "ename": "SyntaxError",
     "evalue": "(unicode error) 'unicodeescape' codec can't decode bytes in position 2-3: truncated \\UXXXXXXXX escape (2870162178.py, line 2)",
     "output_type": "error",
     "traceback": [
      "\u001b[1;36m  Cell \u001b[1;32mIn[7], line 2\u001b[1;36m\u001b[0m\n\u001b[1;33m    a = open(\"C:\\Users\\test\\매수종목.text\", mode=\"wt\", encoding=\"utf-8\")\u001b[0m\n\u001b[1;37m                                      ^\u001b[0m\n\u001b[1;31mSyntaxError\u001b[0m\u001b[1;31m:\u001b[0m (unicode error) 'unicodeescape' codec can't decode bytes in position 2-3: truncated \\UXXXXXXXX escape\n"
     ]
    }
   ],
   "source": [
    "#291\n",
    "a = open(\"C:\\Users\\test\\매수종목.text\", mode=\"wt\", encoding=\"utf-8\")\n",
    "a.write(\"005930\\n\")\n",
    "a.write(\"005380\\n\")\n",
    "a.write(\"035420\")\n",
    "a.close()"
   ]
  },
  {
   "cell_type": "code",
   "execution_count": null,
   "id": "314425dc",
   "metadata": {},
   "outputs": [],
   "source": [
    "#292\n",
    "a = open(\"C:\\Users\\test\\매수종목.csv\", mode=\"wt\", encoding=\"cp949\")\n",
    "a.write(\"005930 삼성전자\\n\")\n",
    "a.write(\"005380 현대차\\n\")\n",
    "a.write(\"035420 NAVER\")\n",
    "a.close()"
   ]
  },
  {
   "cell_type": "code",
   "execution_count": null,
   "id": "61f3de84",
   "metadata": {},
   "outputs": [],
   "source": [
    "#293\n",
    "a = open(\"C:\\Users\\test\\매수종목2.text\", mode=\"wt\", encoding=\"utf-8\")\n",
    "w = csv.writer(a)\n",
    "w.writerow([\"종목명\", \"종목코드\", \"PER\"])\n",
    "w.writerow([\"삼성전자\", \"005930\", 15.59])\n",
    "w.writerow([\"NAVER\", \"035420\", 55.82])\n",
    "a.close()"
   ]
  },
  {
   "cell_type": "code",
   "execution_count": null,
   "id": "f8a3c283",
   "metadata": {},
   "outputs": [],
   "source": [
    "#294\n",
    "a = open(\"C:\\Users\\test\\매수종목.text\", encoding=\"utf-8\")\n",
    "lines = a.readlines()\n",
    "list1 = []\n",
    "for i in lines:\n",
    "    code = line.strip()\n",
    "    list1.append(code)\n",
    "    \n",
    "print(list1)\n",
    "a.close()\n"
   ]
  },
  {
   "cell_type": "code",
   "execution_count": 8,
   "id": "6a1a2fcf",
   "metadata": {},
   "outputs": [
    {
     "ename": "SyntaxError",
     "evalue": "(unicode error) 'unicodeescape' codec can't decode bytes in position 2-3: truncated \\UXXXXXXXX escape (1960705864.py, line 2)",
     "output_type": "error",
     "traceback": [
      "\u001b[1;36m  Cell \u001b[1;32mIn[8], line 2\u001b[1;36m\u001b[0m\n\u001b[1;33m    a = open(\"C:\\Users\\test\\매수종목2.text\", encoding=\"utf-8\")\u001b[0m\n\u001b[1;37m                                       ^\u001b[0m\n\u001b[1;31mSyntaxError\u001b[0m\u001b[1;31m:\u001b[0m (unicode error) 'unicodeescape' codec can't decode bytes in position 2-3: truncated \\UXXXXXXXX escape\n"
     ]
    }
   ],
   "source": [
    "#295\n",
    "a = open(\"C:\\Users\\test\\매수종목2.text\", encoding=\"utf-8\")\n",
    "lines = a.readlines()\n",
    "\n",
    "dic1 = {}\n",
    "for line in lines:\n",
    "    line = line.strip()\n",
    "    k, v = line.split()\n",
    "    data[k] = v\n",
    "    \n",
    "print(data)\n",
    "a.close()"
   ]
  },
  {
   "cell_type": "code",
   "execution_count": 13,
   "id": "1e7fe3f2",
   "metadata": {},
   "outputs": [
    {
     "name": "stdout",
     "output_type": "stream",
     "text": [
      "10.31\n",
      "0\n",
      "8.0\n"
     ]
    }
   ],
   "source": [
    "#296\n",
    "per = [\"10.31\", \"\", \"8.00\"]\n",
    "for i in per:\n",
    "    try:\n",
    "        print(float(i))\n",
    "    except:\n",
    "        print(0)"
   ]
  },
  {
   "cell_type": "code",
   "execution_count": 16,
   "id": "c97326e7",
   "metadata": {},
   "outputs": [
    {
     "name": "stdout",
     "output_type": "stream",
     "text": [
      "[10.31, 0, 8.0]\n"
     ]
    }
   ],
   "source": [
    "#297\n",
    "per = [\"10.31\", \"\", \"8.00\"]\n",
    "new = []\n",
    "for i in per:\n",
    "    try :\n",
    "        a = float(i)\n",
    "    except : \n",
    "        a = 0\n",
    "    new.append(a)\n",
    "print(new)"
   ]
  },
  {
   "cell_type": "code",
   "execution_count": 17,
   "id": "fdfa19bb",
   "metadata": {},
   "outputs": [
    {
     "name": "stdout",
     "output_type": "stream",
     "text": [
      "다른 수로 나누기\n"
     ]
    }
   ],
   "source": [
    "#298\n",
    "try :\n",
    "    a / 0\n",
    "except : \n",
    "    ZeroDivisionError;\n",
    "    print('다른 수로 나누기')"
   ]
  },
  {
   "cell_type": "code",
   "execution_count": 22,
   "id": "b2bce5aa",
   "metadata": {},
   "outputs": [
    {
     "name": "stdout",
     "output_type": "stream",
     "text": [
      "1\n",
      "2\n",
      "3\n",
      "list index out of range\n",
      "list index out of range\n"
     ]
    }
   ],
   "source": [
    "#299\n",
    "data = [1, 2, 3]\n",
    "\n",
    "for i in range(5):\n",
    "    try :\n",
    "        print(data[i])\n",
    "    except IndexError as a:\n",
    "        print(a)"
   ]
  },
  {
   "cell_type": "code",
   "execution_count": 27,
   "id": "8bf14822",
   "metadata": {},
   "outputs": [
    {
     "name": "stdout",
     "output_type": "stream",
     "text": [
      "10.31\n",
      "에러없음\n",
      "퐈이팅\n",
      "0\n",
      "퐈이팅\n",
      "8.0\n",
      "에러없음\n",
      "퐈이팅\n"
     ]
    }
   ],
   "source": [
    "#300\n",
    "per = [\"10.31\", \"\", \"8.00\"]\n",
    "for i in per:\n",
    "    try:\n",
    "        print(float(i))\n",
    "    except:\n",
    "        print('0')\n",
    "    else:\n",
    "        print('에러없음')\n",
    "    finally:\n",
    "        print('퐈이팅')"
   ]
  },
  {
   "cell_type": "code",
   "execution_count": null,
   "id": "8700b18f",
   "metadata": {},
   "outputs": [],
   "source": []
  }
 ],
 "metadata": {
  "kernelspec": {
   "display_name": "Python 3 (ipykernel)",
   "language": "python",
   "name": "python3"
  },
  "language_info": {
   "codemirror_mode": {
    "name": "ipython",
    "version": 3
   },
   "file_extension": ".py",
   "mimetype": "text/x-python",
   "name": "python",
   "nbconvert_exporter": "python",
   "pygments_lexer": "ipython3",
   "version": "3.11.5"
  }
 },
 "nbformat": 4,
 "nbformat_minor": 5
}
