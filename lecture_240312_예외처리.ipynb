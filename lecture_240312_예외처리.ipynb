{
 "cells": [
  {
   "cell_type": "markdown",
   "id": "c232d64a",
   "metadata": {},
   "source": [
    "# 예외처리"
   ]
  },
  {
   "cell_type": "markdown",
   "id": "fed6a0f8",
   "metadata": {},
   "source": [
    "오류가 언제 발생하는가"
   ]
  },
  {
   "cell_type": "code",
   "execution_count": 1,
   "id": "99da34bb",
   "metadata": {},
   "outputs": [
    {
     "ename": "FileNotFoundError",
     "evalue": "[Errno 2] No such file or directory: '나없는파일'",
     "output_type": "error",
     "traceback": [
      "\u001b[1;31m---------------------------------------------------------------------------\u001b[0m",
      "\u001b[1;31mFileNotFoundError\u001b[0m                         Traceback (most recent call last)",
      "Cell \u001b[1;32mIn[1], line 2\u001b[0m\n\u001b[0;32m      1\u001b[0m \u001b[38;5;66;03m# 존재하지 않는 파일을 사용하려고 시도했을 때\u001b[39;00m\n\u001b[1;32m----> 2\u001b[0m f \u001b[38;5;241m=\u001b[39m \u001b[38;5;28mopen\u001b[39m(\u001b[38;5;124m\"\u001b[39m\u001b[38;5;124m나없는파일\u001b[39m\u001b[38;5;124m\"\u001b[39m, \u001b[38;5;124m'\u001b[39m\u001b[38;5;124mr\u001b[39m\u001b[38;5;124m'\u001b[39m)\n",
      "File \u001b[1;32m~\\anaconda3\\Lib\\site-packages\\IPython\\core\\interactiveshell.py:286\u001b[0m, in \u001b[0;36m_modified_open\u001b[1;34m(file, *args, **kwargs)\u001b[0m\n\u001b[0;32m    279\u001b[0m \u001b[38;5;28;01mif\u001b[39;00m file \u001b[38;5;129;01min\u001b[39;00m {\u001b[38;5;241m0\u001b[39m, \u001b[38;5;241m1\u001b[39m, \u001b[38;5;241m2\u001b[39m}:\n\u001b[0;32m    280\u001b[0m     \u001b[38;5;28;01mraise\u001b[39;00m \u001b[38;5;167;01mValueError\u001b[39;00m(\n\u001b[0;32m    281\u001b[0m         \u001b[38;5;124mf\u001b[39m\u001b[38;5;124m\"\u001b[39m\u001b[38;5;124mIPython won\u001b[39m\u001b[38;5;124m'\u001b[39m\u001b[38;5;124mt let you open fd=\u001b[39m\u001b[38;5;132;01m{\u001b[39;00mfile\u001b[38;5;132;01m}\u001b[39;00m\u001b[38;5;124m by default \u001b[39m\u001b[38;5;124m\"\u001b[39m\n\u001b[0;32m    282\u001b[0m         \u001b[38;5;124m\"\u001b[39m\u001b[38;5;124mas it is likely to crash IPython. If you know what you are doing, \u001b[39m\u001b[38;5;124m\"\u001b[39m\n\u001b[0;32m    283\u001b[0m         \u001b[38;5;124m\"\u001b[39m\u001b[38;5;124myou can use builtins\u001b[39m\u001b[38;5;124m'\u001b[39m\u001b[38;5;124m open.\u001b[39m\u001b[38;5;124m\"\u001b[39m\n\u001b[0;32m    284\u001b[0m     )\n\u001b[1;32m--> 286\u001b[0m \u001b[38;5;28;01mreturn\u001b[39;00m io_open(file, \u001b[38;5;241m*\u001b[39margs, \u001b[38;5;241m*\u001b[39m\u001b[38;5;241m*\u001b[39mkwargs)\n",
      "\u001b[1;31mFileNotFoundError\u001b[0m: [Errno 2] No such file or directory: '나없는파일'"
     ]
    }
   ],
   "source": [
    "# 존재하지 않는 파일을 사용하려고 시도했을 때\n",
    "f = open(\"나없는파일\", 'r')"
   ]
  },
  {
   "cell_type": "code",
   "execution_count": 2,
   "id": "6c011458",
   "metadata": {},
   "outputs": [
    {
     "ename": "ZeroDivisionError",
     "evalue": "division by zero",
     "output_type": "error",
     "traceback": [
      "\u001b[1;31m---------------------------------------------------------------------------\u001b[0m",
      "\u001b[1;31mZeroDivisionError\u001b[0m                         Traceback (most recent call last)",
      "Cell \u001b[1;32mIn[2], line 2\u001b[0m\n\u001b[0;32m      1\u001b[0m \u001b[38;5;66;03m# 0으로 다른 숫자를 나누는 경우\u001b[39;00m\n\u001b[1;32m----> 2\u001b[0m \u001b[38;5;241m4\u001b[39m \u001b[38;5;241m/\u001b[39m \u001b[38;5;241m0\u001b[39m\n",
      "\u001b[1;31mZeroDivisionError\u001b[0m: division by zero"
     ]
    }
   ],
   "source": [
    "# 0으로 다른 숫자를 나누는 경우\n",
    "4 / 0"
   ]
  },
  {
   "cell_type": "code",
   "execution_count": 3,
   "id": "8ecf3239",
   "metadata": {},
   "outputs": [
    {
     "ename": "IndexError",
     "evalue": "list index out of range",
     "output_type": "error",
     "traceback": [
      "\u001b[1;31m---------------------------------------------------------------------------\u001b[0m",
      "\u001b[1;31mIndexError\u001b[0m                                Traceback (most recent call last)",
      "Cell \u001b[1;32mIn[3], line 3\u001b[0m\n\u001b[0;32m      1\u001b[0m \u001b[38;5;66;03m# 리스트 인덱싱 오류\u001b[39;00m\n\u001b[0;32m      2\u001b[0m a \u001b[38;5;241m=\u001b[39m [\u001b[38;5;241m1\u001b[39m, \u001b[38;5;241m2\u001b[39m, \u001b[38;5;241m3\u001b[39m]\n\u001b[1;32m----> 3\u001b[0m a[\u001b[38;5;241m3\u001b[39m]\n",
      "\u001b[1;31mIndexError\u001b[0m: list index out of range"
     ]
    }
   ],
   "source": [
    "# 리스트 인덱싱 오류\n",
    "a = [1, 2, 3]\n",
    "a[3]"
   ]
  },
  {
   "cell_type": "markdown",
   "id": "bcd8a4b6",
   "metadata": {},
   "source": [
    "# 오류 예외 처리 기법"
   ]
  },
  {
   "cell_type": "markdown",
   "id": "8fa79b0b",
   "metadata": {},
   "source": [
    "오류를 처리하기 위한 try-except 문"
   ]
  },
  {
   "cell_type": "code",
   "execution_count": 4,
   "id": "e0bc5680",
   "metadata": {},
   "outputs": [
    {
     "ename": "SyntaxError",
     "evalue": "invalid syntax (452224357.py, line 3)",
     "output_type": "error",
     "traceback": [
      "\u001b[1;36m  Cell \u001b[1;32mIn[4], line 3\u001b[1;36m\u001b[0m\n\u001b[1;33m    except [발생오류 [as 오류변수]]: # '만약 오류가 발생한다면, 어떤 오류인지에 따라~어떻게~'\u001b[0m\n\u001b[1;37m                  ^\u001b[0m\n\u001b[1;31mSyntaxError\u001b[0m\u001b[1;31m:\u001b[0m invalid syntax\n"
     ]
    }
   ],
   "source": [
    "try: # 모니터링 블록 : 'Try 실행중에 오류가 발생안한다면'\n",
    "    ...\n",
    "except [발생오류 [as 오류변수]]: # '만약 오류가 발생한다면, 어떤 오류인지에 따라~어떻게~'\n",
    "    "
   ]
  },
  {
   "cell_type": "code",
   "execution_count": 5,
   "id": "cdb46051",
   "metadata": {},
   "outputs": [],
   "source": [
    "# 1. try-except만 쓰는 방법 : ;가장 간단함\n",
    "try:\n",
    "    ...\n",
    "except:\n",
    "    ...\n",
    "# 에러문을 지정하지 않음 = 모든 오류를 다 잡겠다 "
   ]
  },
  {
   "cell_type": "code",
   "execution_count": 6,
   "id": "7c6e5ada",
   "metadata": {},
   "outputs": [],
   "source": [
    "# 2. 발생 오류만 포함한 except 문\n",
    "try:\n",
    "    ...\n",
    "except 발생오류:\n",
    "    ...\n",
    "# 내가 지정한 오류만 잡겠다. 다른 오류는 신경 안씀."
   ]
  },
  {
   "cell_type": "code",
   "execution_count": 7,
   "id": "4ce324d3",
   "metadata": {},
   "outputs": [],
   "source": [
    "# 3. 발생 오류와 오류 변수까지 포함한 except 문 : 가장 많이 사용\n",
    "try:\n",
    "    ...\n",
    "except 발생오류 as 오류변수:\n",
    "    ...\n",
    "# 분기와 더불어 오류를 변수로 받아옴.\n",
    "# 즉, 발생한 오류 정보를 핸들링 할 수 있음\n"
   ]
  },
  {
   "cell_type": "code",
   "execution_count": 8,
   "id": "26206a9f",
   "metadata": {},
   "outputs": [
    {
     "ename": "ZeroDivisionError",
     "evalue": "division by zero",
     "output_type": "error",
     "traceback": [
      "\u001b[1;31m---------------------------------------------------------------------------\u001b[0m",
      "\u001b[1;31mZeroDivisionError\u001b[0m                         Traceback (most recent call last)",
      "Cell \u001b[1;32mIn[8], line 1\u001b[0m\n\u001b[1;32m----> 1\u001b[0m \u001b[38;5;241m4\u001b[39m \u001b[38;5;241m/\u001b[39m \u001b[38;5;241m0\u001b[39m\n",
      "\u001b[1;31mZeroDivisionError\u001b[0m: division by zero"
     ]
    }
   ],
   "source": [
    "4 / 0"
   ]
  },
  {
   "cell_type": "code",
   "execution_count": null,
   "id": "d9775a91",
   "metadata": {},
   "outputs": [],
   "source": [
    "try:\n",
    "    4 / 0\n",
    "except ZeroDivisionError as e:\n",
    "    print('error')"
   ]
  },
  {
   "cell_type": "code",
   "execution_count": 9,
   "id": "c39a91c4",
   "metadata": {},
   "outputs": [
    {
     "name": "stdout",
     "output_type": "stream",
     "text": [
      "division by zero\n"
     ]
    }
   ],
   "source": [
    "try:\n",
    "    4 / 0\n",
    "except ZeroDivisionError as e: # zero~ 를 변수로 받아올 수 있음\n",
    "    print(e)"
   ]
  },
  {
   "cell_type": "code",
   "execution_count": 10,
   "id": "df2cfce3",
   "metadata": {},
   "outputs": [],
   "source": [
    "# 에러가 발생하여 프리징, 꺼질 수 잇는데 \n",
    "# 이를 팝업 등으로 출력하기 위해 오류를 예외 처리함(정책에 따라)"
   ]
  },
  {
   "cell_type": "markdown",
   "id": "770b1fdc",
   "metadata": {},
   "source": [
    "# 여러 개의 오류 처리하기"
   ]
  },
  {
   "cell_type": "code",
   "execution_count": 11,
   "id": "6e3919e7",
   "metadata": {},
   "outputs": [],
   "source": [
    "try:\n",
    "    ...\n",
    "except 발생오류1:\n",
    "   ... \n",
    "except 발생오류2:\n",
    "   ..."
   ]
  },
  {
   "cell_type": "code",
   "execution_count": 12,
   "id": "00cef1d6",
   "metadata": {},
   "outputs": [
    {
     "name": "stdout",
     "output_type": "stream",
     "text": [
      "인덱싱 할 수 없습니다.\n"
     ]
    }
   ],
   "source": [
    "try:\n",
    "    a = [1,2]\n",
    "    print(a[3])\n",
    "    4/0\n",
    "except ZeroDivisionError:\n",
    "    print(\"0으로 나눌 수 없습니다.\")\n",
    "except IndexError:\n",
    "    print(\"인덱싱 할 수 없습니다.\")"
   ]
  },
  {
   "cell_type": "code",
   "execution_count": 13,
   "id": "eefcd3f2",
   "metadata": {},
   "outputs": [
    {
     "name": "stdout",
     "output_type": "stream",
     "text": [
      "list index out of range\n"
     ]
    }
   ],
   "source": [
    "try:\n",
    "    a = [1,2]\n",
    "    print(a[3])\n",
    "    4/0\n",
    "except (ZeroDivisionError, IndexError) as e:\n",
    "    print(e)"
   ]
  },
  {
   "cell_type": "markdown",
   "id": "1f17dbd6",
   "metadata": {},
   "source": [
    "# try-else 문"
   ]
  },
  {
   "cell_type": "code",
   "execution_count": 14,
   "id": "f83a3826",
   "metadata": {},
   "outputs": [
    {
     "ename": "SyntaxError",
     "evalue": "invalid syntax (915368972.py, line 3)",
     "output_type": "error",
     "traceback": [
      "\u001b[1;36m  Cell \u001b[1;32mIn[14], line 3\u001b[1;36m\u001b[0m\n\u001b[1;33m    except [발생오류 [as 오류변수]]:\u001b[0m\n\u001b[1;37m                  ^\u001b[0m\n\u001b[1;31mSyntaxError\u001b[0m\u001b[1;31m:\u001b[0m invalid syntax\n"
     ]
    }
   ],
   "source": [
    "try:\n",
    "    ...\n",
    "except [발생오류 [as 오류변수]]:\n",
    "    ...\n",
    "else:  # 오류가 없을 경우에만 수행\n",
    "    ...\n",
    "# 에러가 발생하지 않았을 경우 엘스 문 수행"
   ]
  },
  {
   "cell_type": "code",
   "execution_count": 15,
   "id": "ca1c8145",
   "metadata": {},
   "outputs": [
    {
     "name": "stdout",
     "output_type": "stream",
     "text": [
      "나이를 입력하세요: 17\n",
      "미성년자는 출입금지입니다.\n"
     ]
    }
   ],
   "source": [
    "try:\n",
    "    age=int(input('나이를 입력하세요: '))\n",
    "except:\n",
    "    print('입력이 정확하지 않습니다.') # 타입 구분\n",
    "else:\n",
    "    if age <= 18:\n",
    "        print('미성년자는 출입금지입니다.')\n",
    "    else:\n",
    "        print('환영합니다.')"
   ]
  },
  {
   "cell_type": "markdown",
   "id": "6d4027b8",
   "metadata": {},
   "source": [
    "# 오류 회피하기"
   ]
  },
  {
   "cell_type": "markdown",
   "id": "190bd954",
   "metadata": {},
   "source": [
    "코드를 작성하다 보면 특정 오류가 발생할 경우 그냥 통과시켜야 할 때가 있다."
   ]
  },
  {
   "cell_type": "code",
   "execution_count": 16,
   "id": "9e82b975",
   "metadata": {},
   "outputs": [],
   "source": [
    "try:\n",
    "    f = open(\"나없는파일\", 'r')\n",
    "except FileNotFoundError:\n",
    "    pass"
   ]
  },
  {
   "cell_type": "markdown",
   "id": "1a2f4313",
   "metadata": {},
   "source": [
    "# 오류 일부러 발생시키기"
   ]
  },
  {
   "cell_type": "markdown",
   "id": "bfa03e78",
   "metadata": {},
   "source": [
    "# 예외 만들기"
   ]
  },
  {
   "cell_type": "markdown",
   "id": "eff931b6",
   "metadata": {},
   "source": [
    "어디에서 발생했는지 알기 위해 별명 붙이는 경우가 있음. 내규에 따라 처리"
   ]
  },
  {
   "cell_type": "code",
   "execution_count": null,
   "id": "a000c3a4",
   "metadata": {},
   "outputs": [],
   "source": []
  }
 ],
 "metadata": {
  "kernelspec": {
   "display_name": "Python 3 (ipykernel)",
   "language": "python",
   "name": "python3"
  },
  "language_info": {
   "codemirror_mode": {
    "name": "ipython",
    "version": 3
   },
   "file_extension": ".py",
   "mimetype": "text/x-python",
   "name": "python",
   "nbconvert_exporter": "python",
   "pygments_lexer": "ipython3",
   "version": "3.11.5"
  }
 },
 "nbformat": 4,
 "nbformat_minor": 5
}
