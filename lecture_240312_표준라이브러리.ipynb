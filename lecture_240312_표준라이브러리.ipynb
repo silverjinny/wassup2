{
 "cells": [
  {
   "cell_type": "markdown",
   "id": "58ec0d59",
   "metadata": {},
   "source": [
    "# 05-6 표준 라이브러리"
   ]
  },
  {
   "cell_type": "markdown",
   "id": "4a643fd5",
   "metadata": {},
   "source": [
    "## datetime.date"
   ]
  },
  {
   "cell_type": "code",
   "execution_count": 1,
   "id": "9a38796e",
   "metadata": {},
   "outputs": [],
   "source": [
    "import datetime # 모듈이나 패키지 쓰겠다 선언"
   ]
  },
  {
   "cell_type": "code",
   "execution_count": 2,
   "id": "38f610e6",
   "metadata": {},
   "outputs": [],
   "source": [
    "day1 = datetime.date(2024, 3, 12)"
   ]
  },
  {
   "cell_type": "code",
   "execution_count": 3,
   "id": "ed740e97",
   "metadata": {},
   "outputs": [],
   "source": [
    "day2 = datetime.date(2024, 1, 22)"
   ]
  },
  {
   "cell_type": "code",
   "execution_count": 4,
   "id": "645d8823",
   "metadata": {},
   "outputs": [],
   "source": [
    "diff = day1-day2"
   ]
  },
  {
   "cell_type": "code",
   "execution_count": 5,
   "id": "431ce6dc",
   "metadata": {},
   "outputs": [
    {
     "data": {
      "text/plain": [
       "50"
      ]
     },
     "execution_count": 5,
     "metadata": {},
     "output_type": "execute_result"
    }
   ],
   "source": [
    "diff.days # days는 객체 변수"
   ]
  },
  {
   "cell_type": "code",
   "execution_count": 6,
   "id": "c230ecf0",
   "metadata": {},
   "outputs": [
    {
     "data": {
      "text/plain": [
       "0"
      ]
     },
     "execution_count": 6,
     "metadata": {},
     "output_type": "execute_result"
    }
   ],
   "source": [
    "# 요일 구하기\n",
    "day = datetime.date(2024, 1, 22)\n",
    "day.weekday() # weekday는 함수\n",
    "# 0은 월요일을 의미"
   ]
  },
  {
   "cell_type": "code",
   "execution_count": 7,
   "id": "70972233",
   "metadata": {},
   "outputs": [
    {
     "data": {
      "text/plain": [
       "1"
      ]
     },
     "execution_count": 7,
     "metadata": {},
     "output_type": "execute_result"
    }
   ],
   "source": [
    "day.isoweekday()"
   ]
  },
  {
   "cell_type": "markdown",
   "id": "efe9efbc",
   "metadata": {},
   "source": [
    "## time"
   ]
  },
  {
   "cell_type": "code",
   "execution_count": 8,
   "id": "1f2faf3e",
   "metadata": {},
   "outputs": [
    {
     "data": {
      "text/plain": [
       "1710209775.8935847"
      ]
     },
     "execution_count": 8,
     "metadata": {},
     "output_type": "execute_result"
    }
   ],
   "source": [
    "import time # 타임이라는 내부 라이브러리 활용할래\n",
    "time.time()"
   ]
  },
  {
   "cell_type": "code",
   "execution_count": 9,
   "id": "e25b480b",
   "metadata": {},
   "outputs": [
    {
     "data": {
      "text/plain": [
       "time.struct_time(tm_year=2024, tm_mon=3, tm_mday=12, tm_hour=11, tm_min=17, tm_sec=12, tm_wday=1, tm_yday=72, tm_isdst=0)"
      ]
     },
     "execution_count": 9,
     "metadata": {},
     "output_type": "execute_result"
    }
   ],
   "source": [
    "# time.localtime\n",
    "time.localtime(time.time())"
   ]
  },
  {
   "cell_type": "code",
   "execution_count": 11,
   "id": "8a603d66",
   "metadata": {},
   "outputs": [
    {
     "data": {
      "text/plain": [
       "'Tue Mar 12 11:17:56 2024'"
      ]
     },
     "execution_count": 11,
     "metadata": {},
     "output_type": "execute_result"
    }
   ],
   "source": [
    "# time.asctime\n",
    "time.asctime(time.localtime(time.time()))"
   ]
  },
  {
   "cell_type": "code",
   "execution_count": 12,
   "id": "15127615",
   "metadata": {},
   "outputs": [
    {
     "data": {
      "text/plain": [
       "'Tue Mar 12 11:18:23 2024'"
      ]
     },
     "execution_count": 12,
     "metadata": {},
     "output_type": "execute_result"
    }
   ],
   "source": [
    "# time.ctime *** 가장 많이 사용된다 \n",
    "time.ctime()"
   ]
  },
  {
   "cell_type": "code",
   "execution_count": 13,
   "id": "851562c4",
   "metadata": {},
   "outputs": [
    {
     "data": {
      "text/plain": [
       "'03/12/24'"
      ]
     },
     "execution_count": 13,
     "metadata": {},
     "output_type": "execute_result"
    }
   ],
   "source": [
    "# time.strftime\n",
    "import time\n",
    "time.strftime('%x', time.localtime(time.time()))"
   ]
  },
  {
   "cell_type": "code",
   "execution_count": 14,
   "id": "5d36af76",
   "metadata": {},
   "outputs": [
    {
     "data": {
      "text/plain": [
       "'Tue Mar 12 11:20:59 2024'"
      ]
     },
     "execution_count": 14,
     "metadata": {},
     "output_type": "execute_result"
    }
   ],
   "source": [
    "time.strftime('%c', time.localtime(time.time()))"
   ]
  },
  {
   "cell_type": "markdown",
   "id": "73aa4682",
   "metadata": {},
   "source": [
    "## time.sleep"
   ]
  },
  {
   "cell_type": "code",
   "execution_count": 15,
   "id": "7aea277d",
   "metadata": {},
   "outputs": [
    {
     "name": "stdout",
     "output_type": "stream",
     "text": [
      "0\n",
      "1\n",
      "2\n",
      "3\n",
      "4\n",
      "5\n",
      "6\n",
      "7\n",
      "8\n",
      "9\n"
     ]
    }
   ],
   "source": [
    "import time\n",
    "\n",
    "for i in range(10):\n",
    "    print(i)\n",
    "    time.sleep(1) # 소수점도 인식함 \n"
   ]
  },
  {
   "cell_type": "markdown",
   "id": "46cb49b4",
   "metadata": {},
   "source": [
    "## random"
   ]
  },
  {
   "cell_type": "code",
   "execution_count": 16,
   "id": "1ce7bb93",
   "metadata": {},
   "outputs": [
    {
     "data": {
      "text/plain": [
       "0.9933046951012986"
      ]
     },
     "execution_count": 16,
     "metadata": {},
     "output_type": "execute_result"
    }
   ],
   "source": [
    "import random\n",
    "random.random()"
   ]
  },
  {
   "cell_type": "code",
   "execution_count": 17,
   "id": "5f0eac85",
   "metadata": {},
   "outputs": [
    {
     "data": {
      "text/plain": [
       "9"
      ]
     },
     "execution_count": 17,
     "metadata": {},
     "output_type": "execute_result"
    }
   ],
   "source": [
    "random.randint(1, 10)"
   ]
  },
  {
   "cell_type": "code",
   "execution_count": 18,
   "id": "cfb29786",
   "metadata": {},
   "outputs": [
    {
     "data": {
      "text/plain": [
       "13"
      ]
     },
     "execution_count": 18,
     "metadata": {},
     "output_type": "execute_result"
    }
   ],
   "source": [
    "random.randint(1, 55)"
   ]
  },
  {
   "cell_type": "code",
   "execution_count": 19,
   "id": "8f757baf",
   "metadata": {},
   "outputs": [
    {
     "data": {
      "text/plain": [
       "[4, 5, 3, 1, 2]"
      ]
     },
     "execution_count": 19,
     "metadata": {},
     "output_type": "execute_result"
    }
   ],
   "source": [
    "import random # 위에서 입력했기 때문에 생략 가능함\n",
    "data = [1, 2, 3, 4, 5]\n",
    "random.sample(data, len(data))"
   ]
  },
  {
   "cell_type": "markdown",
   "id": "85765dd0",
   "metadata": {},
   "source": [
    "## glob"
   ]
  },
  {
   "cell_type": "code",
   "execution_count": 20,
   "id": "06e14897",
   "metadata": {},
   "outputs": [],
   "source": [
    "# 디렉터리에 있는 파일 리스트로 반환함"
   ]
  },
  {
   "cell_type": "code",
   "execution_count": 21,
   "id": "6b242407",
   "metadata": {},
   "outputs": [
    {
     "data": {
      "text/plain": [
       "'C:\\\\workspace\\\\wassup2\\\\python'"
      ]
     },
     "execution_count": 21,
     "metadata": {},
     "output_type": "execute_result"
    }
   ],
   "source": [
    "pwd"
   ]
  },
  {
   "cell_type": "code",
   "execution_count": 22,
   "id": "64daf45b",
   "metadata": {},
   "outputs": [],
   "source": [
    "import glob"
   ]
  },
  {
   "cell_type": "code",
   "execution_count": 23,
   "id": "59773d2a",
   "metadata": {},
   "outputs": [
    {
     "ename": "TypeError",
     "evalue": "glob() missing 1 required positional argument: 'pathname'",
     "output_type": "error",
     "traceback": [
      "\u001b[1;31m---------------------------------------------------------------------------\u001b[0m",
      "\u001b[1;31mTypeError\u001b[0m                                 Traceback (most recent call last)",
      "Cell \u001b[1;32mIn[23], line 1\u001b[0m\n\u001b[1;32m----> 1\u001b[0m glob\u001b[38;5;241m.\u001b[39mglob()\n",
      "\u001b[1;31mTypeError\u001b[0m: glob() missing 1 required positional argument: 'pathname'"
     ]
    }
   ],
   "source": [
    "glob.glob()\n",
    "# 패스 지정해줘야 함"
   ]
  },
  {
   "cell_type": "code",
   "execution_count": 24,
   "id": "a8a305d7",
   "metadata": {},
   "outputs": [
    {
     "data": {
      "text/plain": [
       "['C:\\\\workspace\\\\wassup2\\\\python\\\\00_마크다운.ipynb',\n",
       " 'C:\\\\workspace\\\\wassup2\\\\python\\\\01_ 자료형과 변수.ipynb',\n",
       " 'C:\\\\workspace\\\\wassup2\\\\python\\\\01_자료형&변수_연습문제_실습용.ipynb',\n",
       " 'C:\\\\workspace\\\\wassup2\\\\python\\\\240304.ipynb',\n",
       " 'C:\\\\workspace\\\\wassup2\\\\python\\\\lecture_240305_제어문.ipynb',\n",
       " 'C:\\\\workspace\\\\wassup2\\\\python\\\\lecture_240306_전화번호프로그램.ipynb',\n",
       " 'C:\\\\workspace\\\\wassup2\\\\python\\\\lecture_240306_제어문.ipynb',\n",
       " 'C:\\\\workspace\\\\wassup2\\\\python\\\\lecture_240307_함수.ipynb',\n",
       " 'C:\\\\workspace\\\\wassup2\\\\python\\\\lecture_240311_클래스.ipynb',\n",
       " 'C:\\\\workspace\\\\wassup2\\\\python\\\\practice.ipynb',\n",
       " 'C:\\\\workspace\\\\wassup2\\\\python\\\\practice_wikidocs_101_150.ipynb',\n",
       " 'C:\\\\workspace\\\\wassup2\\\\python\\\\practice_wikidocs_151_200.ipynb',\n",
       " 'C:\\\\workspace\\\\wassup2\\\\python\\\\practice_wikidocs_201_240.ipynb',\n",
       " 'C:\\\\workspace\\\\wassup2\\\\python\\\\practice_wikidocs_251_290.ipynb',\n",
       " 'C:\\\\workspace\\\\wassup2\\\\python\\\\practice_제어문_연습문제_실습용.ipynb',\n",
       " 'C:\\\\workspace\\\\wassup2\\\\python\\\\practice_클래스&내장함수_연습문제_실습용.ipynb',\n",
       " 'C:\\\\workspace\\\\wassup2\\\\python\\\\practice_함수&입출력_연습문제_실습용.ipynb',\n",
       " 'C:\\\\workspace\\\\wassup2\\\\python\\\\tel_num.ipynb',\n",
       " 'C:\\\\workspace\\\\wassup2\\\\python\\\\test.ipynb',\n",
       " 'C:\\\\workspace\\\\wassup2\\\\python\\\\Untitled.ipynb',\n",
       " 'C:\\\\workspace\\\\wassup2\\\\python\\\\Untitled1.ipynb',\n",
       " 'C:\\\\workspace\\\\wassup2\\\\python\\\\Untitled2.ipynb',\n",
       " 'C:\\\\workspace\\\\wassup2\\\\python\\\\Untitled3.ipynb',\n",
       " 'C:\\\\workspace\\\\wassup2\\\\python\\\\wikidocs.ipynb',\n",
       " 'C:\\\\workspace\\\\wassup2\\\\python\\\\wikidocs51_100.ipynb']"
      ]
     },
     "execution_count": 24,
     "metadata": {},
     "output_type": "execute_result"
    }
   ],
   "source": [
    "a = glob.glob('C:\\\\workspace\\\\wassup2\\\\python\\\\*.ipynb')\n",
    "split(a,'\\\\')"
   ]
  },
  {
   "cell_type": "code",
   "execution_count": 31,
   "id": "721ac0ad",
   "metadata": {},
   "outputs": [
    {
     "name": "stdout",
     "output_type": "stream",
     "text": [
      "00_마크다운.ipynb\n",
      "01_ 자료형과 변수.ipynb\n",
      "01_자료형&변수_연습문제_실습용.ipynb\n",
      "240304.ipynb\n",
      "lecture_240305_제어문.ipynb\n",
      "lecture_240306_전화번호프로그램.ipynb\n",
      "lecture_240306_제어문.ipynb\n",
      "lecture_240307_함수.ipynb\n",
      "lecture_240311_클래스.ipynb\n",
      "practice.ipynb\n",
      "practice_wikidocs_101_150.ipynb\n",
      "practice_wikidocs_151_200.ipynb\n",
      "practice_wikidocs_201_240.ipynb\n",
      "practice_wikidocs_251_290.ipynb\n",
      "practice_제어문_연습문제_실습용.ipynb\n",
      "practice_클래스&내장함수_연습문제_실습용.ipynb\n",
      "practice_함수&입출력_연습문제_실습용.ipynb\n",
      "tel_num.ipynb\n",
      "test.ipynb\n",
      "Untitled.ipynb\n",
      "Untitled1.ipynb\n",
      "Untitled2.ipynb\n",
      "Untitled3.ipynb\n",
      "wikidocs.ipynb\n",
      "wikidocs51_100.ipynb\n"
     ]
    }
   ],
   "source": [
    "a = glob.glob('C:\\\\workspace\\\\wassup2\\\\python\\\\*.ipynb')\n",
    "for i in a:\n",
    "    print(i.split('\\\\')[-1])"
   ]
  },
  {
   "cell_type": "code",
   "execution_count": null,
   "id": "f84c4452",
   "metadata": {},
   "outputs": [],
   "source": []
  }
 ],
 "metadata": {
  "kernelspec": {
   "display_name": "Python 3 (ipykernel)",
   "language": "python",
   "name": "python3"
  },
  "language_info": {
   "codemirror_mode": {
    "name": "ipython",
    "version": 3
   },
   "file_extension": ".py",
   "mimetype": "text/x-python",
   "name": "python",
   "nbconvert_exporter": "python",
   "pygments_lexer": "ipython3",
   "version": "3.11.5"
  }
 },
 "nbformat": 4,
 "nbformat_minor": 5
}
