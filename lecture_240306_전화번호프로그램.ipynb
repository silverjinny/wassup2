{
 "cells": [
  {
   "cell_type": "markdown",
   "metadata": {},
   "source": [
    "# 전화번호 프로그램 만들기\n",
    "\n",
    "* 홍길동 010-123-4567\n",
    "* 기능1 : 연락처 추가\n",
    "* 기능2 : 연락처 전체 보기\n",
    "* 기능3 : 검색, 이름을 입력받아서 전화번호 조회\n",
    "* 기능4 : 수정, 이름을 입력받아서 전화번호 입력수정\n",
    "* 기능5 : 삭제, 이름 입력받아서 삭제\n",
    "* 기능6 : 프로그램 종료"
   ]
  },
  {
   "cell_type": "code",
   "execution_count": 15,
   "metadata": {},
   "outputs": [
    {
     "name": "stdout",
     "output_type": "stream",
     "text": [
      "이름, 전화번호를 입력하세요 : ㅇㅇ\n",
      "None\n"
     ]
    },
    {
     "ename": "AttributeError",
     "evalue": "'NoneType' object has no attribute 'slice'",
     "output_type": "error",
     "traceback": [
      "\u001b[1;31m---------------------------------------------------------------------------\u001b[0m",
      "\u001b[1;31mAttributeError\u001b[0m                            Traceback (most recent call last)",
      "Cell \u001b[1;32mIn[15], line 6\u001b[0m\n\u001b[0;32m      3\u001b[0m list2 \u001b[38;5;241m=\u001b[39m list1\u001b[38;5;241m.\u001b[39mappend(u)\n\u001b[0;32m      4\u001b[0m \u001b[38;5;28mprint\u001b[39m(list2)\n\u001b[1;32m----> 6\u001b[0m list3 \u001b[38;5;241m=\u001b[39m list2\u001b[38;5;241m.\u001b[39mslice(\u001b[38;5;124m\"\u001b[39m\u001b[38;5;124m \u001b[39m\u001b[38;5;124m\"\u001b[39m)\n\u001b[0;32m      8\u001b[0m u2 \u001b[38;5;241m=\u001b[39m \u001b[38;5;28minput\u001b[39m(\u001b[38;5;124m'\u001b[39m\u001b[38;5;124m검색할 이름을 입력하세요 : \u001b[39m\u001b[38;5;124m'\u001b[39m)\n\u001b[0;32m      9\u001b[0m \u001b[38;5;28;01mif\u001b[39;00m u2 \u001b[38;5;129;01min\u001b[39;00m list3:\n",
      "\u001b[1;31mAttributeError\u001b[0m: 'NoneType' object has no attribute 'slice'"
     ]
    }
   ],
   "source": [
    "list1 = []\n",
    "u = input('이름, 전화번호를 입력하세요 : ')\n",
    "list2 = list1.append(u)\n",
    "print(list2)\n",
    "\n",
    "list3 = list2.slice(\" \")\n",
    "\n",
    "u2 = input('검색할 이름을 입력하세요 : ')\n",
    "if u2 in list3:\n",
    "    print(list3.value(input))\n",
    "else :\n",
    "    print('이름을 확인해주세요')"
   ]
  },
  {
   "cell_type": "markdown",
   "metadata": {},
   "source": [
    "## 요구사항 분석 및 설계"
   ]
  },
  {
   "cell_type": "markdown",
   "metadata": {},
   "source": [
    "- Input, Output, 데이터 -> 어떤 데이터를 입력받고 내보낼 것인지\n",
    "\n",
    "- 홍길동, 010-1234-5678 -> '딕셔너리' key, value로 활용할 수 있겠다\n",
    "- 사용자 입력을 받아야 되겠다. -> Input()\n",
    "- 프로그램 while 문\n",
    "- 기능 1,2,3,4,5,6 : if 분기문을 사용하면 됨. 해당 숫자를 입력했을 때 기능.(interface)\n",
    "- 기능 1 : dict[key] = value\n",
    "- 기능 2 : print(dict)\n",
    "- 기능 3 : dict[key]\n",
    "- 기능 4 : dict[key] = value\n",
    "- 기능 5 : del\n",
    "- 기능 6 : break\n",
    "\n"
   ]
  },
  {
   "cell_type": "code",
   "execution_count": null,
   "metadata": {},
   "outputs": [],
   "source": [
    "contact = {}\n",
    "\n",
    "while True:\n",
    "    print('-------------전화번호부 프로그램-----------------')\n",
    "    print('1.추가  2.보기  3.검색  4.수정  5.삭제  9.종료' )\n",
    "\n",
    "    menu = int(input('메뉴를 선택해주세요(숫자only)'))\n",
    "    \n",
    "    if menu == 1:\n",
    "        print('연락처를 추가합니다.')\n",
    "        new_name = input('이름:')\n",
    "        new_tel = input('전화번호:')\n",
    "        print(new_name, new_tel)\n",
    "        # contact[new_name] = new_tel #덮어쓰기 될 수 있어서 위험함\n",
    "        contact.setdefault(new_name, new_tel)\n",
    "        print('-'*10)\n",
    "        print(contact)\n",
    "        \n",
    "    elif menu == 2:\n",
    "        print('연락처를 조회합니다.')\n",
    "        # print(contact) -> 이렇게 해도 됨.\n",
    "        for name, tel in contact.items():\n",
    "            print(name, \":\", tel)\n",
    "        \n",
    "    elif menu == 3:\n",
    "        print('연락처를 검색합니다.')    \n",
    "        search_name = input('검색 이름:')\n",
    "        # print(contact[search_name])\n",
    "        print(contact.get(search_name, '없는 연락처입니다.'))\n",
    "        \n",
    "    elif menu == 4:\n",
    "        print('연락처를 수정합니다.')\n",
    "        mod_name = input('수정 이름:') # 연락처가 있는 경우에만 새 전화번호를 물어야\n",
    "        \n",
    "        if mod_name in contact:\n",
    "            mod_tel = input('새 전화번호:')\n",
    "            contact[mod_name] = mod_tel\n",
    "        else : \n",
    "            print('등록되지 않은 전화번호입니다.')\n",
    "        \n",
    "    elif menu == 5:\n",
    "        print('연락처를 삭제합니다.')\n",
    "        del_name = input('삭제 이름 : ')\n",
    "        if del_name in contact:\n",
    "            del contact[del_name]\n",
    "        else :\n",
    "            print('등록되지 않은 이름입니다.')      \n",
    "        \n",
    "    elif menu == 9:\n",
    "        print('연락처를 종료합니다.')    \n",
    "        break\n",
    "    \n",
    "    else : \n",
    "        print('잘못된 입력입니다.')"
   ]
  },
  {
   "cell_type": "code",
   "execution_count": null,
   "metadata": {},
   "outputs": [
    {
     "name": "stdout",
     "output_type": "stream",
     "text": [
      "------ 전화번호부 프로그램 ------\n",
      "1.추가   2.보기    3.검색   4.수정   5.삭제    9.종료\n"
     ]
    }
   ],
   "source": [
    "contact = {}\n",
    "\n",
    "while True:\n",
    "    print('------ 전화번호부 프로그램 ------')\n",
    "    print('1.추가   2.보기    3.검색   4.수정   5.삭제    9.종료')\n",
    "\n",
    "    menu = int(input('메뉴를 선택해주세요(숫자 only)'))\n",
    "\n",
    "    if menu == 1:\n",
    "        print('연락처를 추가합니다.')\n",
    "        new_name = input('이름 : ')\n",
    "        new_tel = input('전화번호 : ')\n",
    "        print(new_name, new_tel)\n",
    "        # contact[new_name] = new_tel # 덮어쓰기\n",
    "        contact.setdefault(new_name, new_tel)\n",
    "\n",
    "    elif menu == 2:\n",
    "        print('연락처를 조회합니다.')\n",
    "        # print(contact)\n",
    "        # print('='*10)\n",
    "        for name, tel in contact.items():\n",
    "            print(name, \":\", tel)\n",
    "\n",
    "    elif menu == 3:\n",
    "        print('연락처를 검색합니다.')\n",
    "        search_name = input('검색 이름: ')\n",
    "        # print(contact[search_name])\n",
    "        print(contact.get(search_name, '없는 연락처입니다.'))\n",
    "\n",
    "    elif menu == 4:\n",
    "        print('연락처를 수정합니다.')\n",
    "        mod_name = input('수정 이름 : ') # 연락처에 있을 경우에만 새전화번호를 묻는 것이.\n",
    "        if mod_name in contact:\n",
    "            mod_tel = input('새 전화번호 : ')\n",
    "            contact[mod_name] = mod_tel\n",
    "        else :\n",
    "            print('등록되지 않은 이름입니다.')\n",
    "\n",
    "    elif menu == 5:\n",
    "        print('연락처를 삭제합니다.')\n",
    "        del_name = input('삭제 이름 : ')\n",
    "        if del_name in contact:\n",
    "            del contact[del_name]\n",
    "        else :\n",
    "            print('등록되지 않은 이름입니다.')\n",
    "\n",
    "    elif menu == 9:\n",
    "        print('프로그램을 종료합니다.') \n",
    "        break\n",
    "\n",
    "    else :\n",
    "        print('잘못된 입력입니다.')"
   ]
  },
  {
   "cell_type": "code",
   "execution_count": null,
   "metadata": {},
   "outputs": [],
   "source": []
  }
 ],
 "metadata": {
  "kernelspec": {
   "display_name": "Python 3 (ipykernel)",
   "language": "python",
   "name": "python3"
  },
  "language_info": {
   "codemirror_mode": {
    "name": "ipython",
    "version": 3
   },
   "file_extension": ".py",
   "mimetype": "text/x-python",
   "name": "python",
   "nbconvert_exporter": "python",
   "pygments_lexer": "ipython3",
   "version": "3.11.5"
  },
  "toc": {
   "base_numbering": 1,
   "nav_menu": {},
   "number_sections": true,
   "sideBar": true,
   "skip_h1_title": false,
   "title_cell": "Table of Contents",
   "title_sidebar": "Contents",
   "toc_cell": false,
   "toc_position": {},
   "toc_section_display": true,
   "toc_window_display": false
  },
  "varInspector": {
   "cols": {
    "lenName": 16,
    "lenType": 16,
    "lenVar": 40
   },
   "kernels_config": {
    "python": {
     "delete_cmd_postfix": "",
     "delete_cmd_prefix": "del ",
     "library": "var_list.py",
     "varRefreshCmd": "print(var_dic_list())"
    },
    "r": {
     "delete_cmd_postfix": ") ",
     "delete_cmd_prefix": "rm(",
     "library": "var_list.r",
     "varRefreshCmd": "cat(var_dic_list()) "
    }
   },
   "types_to_exclude": [
    "module",
    "function",
    "builtin_function_or_method",
    "instance",
    "_Feature"
   ],
   "window_display": false
  }
 },
 "nbformat": 4,
 "nbformat_minor": 2
}
