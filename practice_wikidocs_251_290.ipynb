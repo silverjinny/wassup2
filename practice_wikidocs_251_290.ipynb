{
 "cells": [
  {
   "cell_type": "code",
   "execution_count": 1,
   "id": "2709cf08",
   "metadata": {},
   "outputs": [],
   "source": [
    "#251\n",
    "# 클래스 : 여러개의 데이터를 입력하는 경우 활용\n",
    "# 객체 : 저장되는 데이터\n",
    "# 인스턴스 : 특정 클래스의 객체\n"
   ]
  },
  {
   "cell_type": "code",
   "execution_count": 2,
   "id": "7e38fb76",
   "metadata": {},
   "outputs": [],
   "source": [
    "#252\n",
    "class Human:\n",
    "    pass"
   ]
  },
  {
   "cell_type": "code",
   "execution_count": 3,
   "id": "0a97cb4d",
   "metadata": {},
   "outputs": [],
   "source": [
    "#253\n",
    "areum = Human()"
   ]
  },
  {
   "cell_type": "code",
   "execution_count": 4,
   "id": "58780a91",
   "metadata": {},
   "outputs": [
    {
     "name": "stdout",
     "output_type": "stream",
     "text": [
      "응애응애\n"
     ]
    }
   ],
   "source": [
    "#254\n",
    "class Human :\n",
    "    def __init__(self):\n",
    "        print('응애응애')\n",
    "\n",
    "areum = Human()"
   ]
  },
  {
   "cell_type": "code",
   "execution_count": 6,
   "id": "e2c98f8e",
   "metadata": {},
   "outputs": [],
   "source": [
    "#255\n",
    "class Human :\n",
    "    def __init__(self, name, age, sex):\n",
    "        self.name = name\n",
    "        self.age = age\n",
    "        self.sex = sex\n",
    "\n",
    "areum = Human(\"아름\", 25, \"여자\")"
   ]
  },
  {
   "cell_type": "code",
   "execution_count": 9,
   "id": "9b5e21b2",
   "metadata": {},
   "outputs": [
    {
     "name": "stdout",
     "output_type": "stream",
     "text": [
      "이름: 아름 나이: 25 성별: 여자\n"
     ]
    }
   ],
   "source": [
    "#256\n",
    "print('이름:', areum.name, '나이:', areum.age, '성별:', areum.sex)\n"
   ]
  },
  {
   "cell_type": "code",
   "execution_count": 14,
   "id": "b9dcc143",
   "metadata": {},
   "outputs": [],
   "source": [
    "#257\n",
    "class Human :\n",
    "    def __init__(self, name, age, sex):\n",
    "        self.name = name\n",
    "        self.age = age\n",
    "        self.sex = sex\n",
    "    def who(self):\n",
    "        print('이름:', self.name, '나이:', self.age, '성별:', self.sex)"
   ]
  },
  {
   "cell_type": "code",
   "execution_count": 17,
   "id": "383f336e",
   "metadata": {},
   "outputs": [],
   "source": [
    "areum = Human(\"아름\", 25, \"여자\")"
   ]
  },
  {
   "cell_type": "code",
   "execution_count": 18,
   "id": "3436ab07",
   "metadata": {},
   "outputs": [
    {
     "name": "stdout",
     "output_type": "stream",
     "text": [
      "이름: 아름 나이: 25 성별: 여자\n"
     ]
    }
   ],
   "source": [
    "areum.who()"
   ]
  },
  {
   "cell_type": "code",
   "execution_count": 19,
   "id": "a87fe8ea",
   "metadata": {},
   "outputs": [],
   "source": [
    "#258\n",
    "class Human :\n",
    "    def __init__(self, name, age, sex):\n",
    "        self.name = name\n",
    "        self.age = age\n",
    "        self.sex = sex\n",
    "    def who(self):\n",
    "        print('이름:', self.name, '나이:', self.age, '성별:', self.sex)\n",
    "    def setInfo(self, name, age, sex):\n",
    "        self.name = name\n",
    "        self.age = age\n",
    "        self.sex = sex\n",
    "\n",
    "areum = Human(\"모름\", 0, \"모름\")\n",
    "areum.setInfo(\"아름\", 25, \"여자\")"
   ]
  },
  {
   "cell_type": "code",
   "execution_count": 20,
   "id": "d0ff17b6",
   "metadata": {},
   "outputs": [],
   "source": [
    "#259\n",
    "class Human :\n",
    "    def __init__(self, name, age, sex):\n",
    "        self.name = name\n",
    "        self.age = age\n",
    "        self.sex = sex\n",
    "    def __del__(self):\n",
    "        print(\"나의 죽음을 알리지 말라\")\n",
    "    def who(self):\n",
    "        print('이름:', self.name, '나이:', self.age, '성별:', self.sex)\n",
    "    def setInfo(self, name, age, sex):\n",
    "        self.name = name\n",
    "        self.age = age\n",
    "        self.sex = sex"
   ]
  },
  {
   "cell_type": "code",
   "execution_count": 21,
   "id": "2b2a0834",
   "metadata": {},
   "outputs": [],
   "source": [
    "areum = Human(\"아름\", 25, \"여자\")"
   ]
  },
  {
   "cell_type": "code",
   "execution_count": 22,
   "id": "6afdd86e",
   "metadata": {},
   "outputs": [
    {
     "name": "stdout",
     "output_type": "stream",
     "text": [
      "나의 죽음을 알리지 말라\n"
     ]
    }
   ],
   "source": [
    "del areum"
   ]
  },
  {
   "cell_type": "code",
   "execution_count": 26,
   "id": "94405a50",
   "metadata": {},
   "outputs": [
    {
     "ename": "TypeError",
     "evalue": "OMG.print() takes 0 positional arguments but 1 was given",
     "output_type": "error",
     "traceback": [
      "\u001b[1;31m---------------------------------------------------------------------------\u001b[0m",
      "\u001b[1;31mTypeError\u001b[0m                                 Traceback (most recent call last)",
      "Cell \u001b[1;32mIn[26], line 6\u001b[0m\n\u001b[0;32m      4\u001b[0m         \u001b[38;5;28mprint\u001b[39m(\u001b[38;5;124m\"\u001b[39m\u001b[38;5;124mOh my god\u001b[39m\u001b[38;5;124m\"\u001b[39m)\n\u001b[0;32m      5\u001b[0m myStock \u001b[38;5;241m=\u001b[39m OMG()\n\u001b[1;32m----> 6\u001b[0m myStock\u001b[38;5;241m.\u001b[39mprint()\n",
      "\u001b[1;31mTypeError\u001b[0m: OMG.print() takes 0 positional arguments but 1 was given"
     ]
    }
   ],
   "source": [
    "#260\n",
    "class OMG : \n",
    "    def print() :\n",
    "        print(\"Oh my god\")\n",
    "myStock = OMG()\n",
    "myStock.print()\n",
    "\n",
    "# OMG.print(myStock)"
   ]
  },
  {
   "cell_type": "code",
   "execution_count": 27,
   "id": "62d260ac",
   "metadata": {},
   "outputs": [],
   "source": [
    "#261\n",
    "class Stock:\n",
    "    pass\n"
   ]
  },
  {
   "cell_type": "code",
   "execution_count": 29,
   "id": "8473220c",
   "metadata": {},
   "outputs": [],
   "source": [
    "#262\n",
    "class Stock:\n",
    "    def __init__(self, name, code):\n",
    "        self.name = name\n",
    "        self.code = code\n",
    "    "
   ]
  },
  {
   "cell_type": "code",
   "execution_count": 31,
   "id": "88440a36",
   "metadata": {},
   "outputs": [
    {
     "name": "stdout",
     "output_type": "stream",
     "text": [
      "삼성전자\n"
     ]
    }
   ],
   "source": [
    "삼성 = Stock(\"삼성전자\", \"005930\")\n",
    "print(삼성.name)"
   ]
  },
  {
   "cell_type": "code",
   "execution_count": 32,
   "id": "8bf65c9c",
   "metadata": {},
   "outputs": [],
   "source": [
    "#263\n",
    "class Stock:\n",
    "    def __init__(self, name, code):\n",
    "        self.name = name\n",
    "        self.code = code\n",
    "    def set_name(self, name):\n",
    "        self.set_name = name"
   ]
  },
  {
   "cell_type": "code",
   "execution_count": 35,
   "id": "97ea1a20",
   "metadata": {},
   "outputs": [
    {
     "name": "stdout",
     "output_type": "stream",
     "text": [
      "None\n",
      "삼성전자\n"
     ]
    }
   ],
   "source": [
    "a = Stock(None, None)\n",
    "a.set_name(\"삼성전자\")\n",
    "print(a.name)\n",
    "print(a.set_name)"
   ]
  },
  {
   "cell_type": "code",
   "execution_count": 36,
   "id": "bdfede2a",
   "metadata": {},
   "outputs": [
    {
     "name": "stdout",
     "output_type": "stream",
     "text": [
      "None\n",
      "005930\n"
     ]
    }
   ],
   "source": [
    "#264\n",
    "class Stock:\n",
    "    def __init__(self, name, code):\n",
    "        self.name = name\n",
    "        self.code = code\n",
    "    def set_name(self, name):\n",
    "        self.set_name = name\n",
    "    def set_code(self, code):\n",
    "        self.set_code = code\n",
    "        \n",
    "a = Stock(None, None)\n",
    "a.set_code(\"005930\")\n",
    "print(a.code)\n",
    "print(a.set_code)"
   ]
  },
  {
   "cell_type": "code",
   "execution_count": 40,
   "id": "1c2ef22c",
   "metadata": {},
   "outputs": [
    {
     "name": "stdout",
     "output_type": "stream",
     "text": [
      "삼성전자 005930\n",
      "삼성전자 005930\n"
     ]
    }
   ],
   "source": [
    "#265\n",
    "class Stock:\n",
    "    \n",
    "    def __init__(self, name, code):\n",
    "        self.name = name\n",
    "        self.code = code\n",
    "        \n",
    "    def set_name(self, name):\n",
    "        self.set_name = name\n",
    "        \n",
    "    def set_code(self, code):\n",
    "        self.set_code = code\n",
    "    \n",
    "    def get_name(self):\n",
    "        return self.name\n",
    "    \n",
    "    def get_code (self):\n",
    "        return self.code\n",
    "    \n",
    "삼성 = Stock(\"삼성전자\", \"005930\")\n",
    "print(삼성.name, 삼성.code)\n",
    "print(삼성.get_name(), 삼성.get_code())"
   ]
  },
  {
   "cell_type": "code",
   "execution_count": 41,
   "id": "bbbc5e33",
   "metadata": {},
   "outputs": [],
   "source": [
    "#266\n",
    "class Stock:\n",
    "    \n",
    "    def __init__(self, name, code, PER, PBR, 배당수익률):\n",
    "        self.name = name\n",
    "        self.code = code\n",
    "        self.PER = PER\n",
    "        self.PBR = PBR\n",
    "        self.배당수익률 = 배당수익률\n",
    "        \n",
    "    def set_name(self, name):\n",
    "        self.set_name = name\n",
    "        \n",
    "    def set_code(self, code):\n",
    "        self.set_code = code\n",
    "    \n",
    "    def get_name(self):\n",
    "        return self.name\n",
    "    \n",
    "    def get_code (self):\n",
    "        return self.code"
   ]
  },
  {
   "cell_type": "code",
   "execution_count": 44,
   "id": "2697ef1a",
   "metadata": {},
   "outputs": [
    {
     "name": "stdout",
     "output_type": "stream",
     "text": [
      "2.83\n"
     ]
    }
   ],
   "source": [
    "#267\n",
    "삼성 = Stock(\"삼성전자\", \"005930\", 15.79, 1.33, 2.83)\n",
    "print(삼성.배당수익률)"
   ]
  },
  {
   "cell_type": "code",
   "execution_count": 45,
   "id": "002f2626",
   "metadata": {},
   "outputs": [],
   "source": [
    "#268\n",
    "class Stock:\n",
    "    \n",
    "    def __init__(self, name, code, PER, PBR, 배당수익률):\n",
    "        self.name = name\n",
    "        self.code = code\n",
    "        self.PER = PER\n",
    "        self.PBR = PBR\n",
    "        self.배당수익률 = 배당수익률\n",
    "        \n",
    "    def set_name(self, name):\n",
    "        self.set_name = name\n",
    "        \n",
    "    def set_code(self, code):\n",
    "        self.set_code = code\n",
    "    \n",
    "    def get_name(self):\n",
    "        return self.name\n",
    "    \n",
    "    def get_code (self):\n",
    "        return self.code\n",
    "\n",
    "    def set_per(self, PER):\n",
    "        self.PER = PER\n",
    "\n",
    "    def set_pbr(self, PBR):\n",
    "        self.PBR = PBR\n",
    "        \n",
    "    def set_dividend(self, 배당수익률):\n",
    "        self.배당수익률 = 배당수익률"
   ]
  },
  {
   "cell_type": "code",
   "execution_count": 51,
   "id": "cc0fdd07",
   "metadata": {},
   "outputs": [
    {
     "name": "stdout",
     "output_type": "stream",
     "text": [
      "12.75\n"
     ]
    }
   ],
   "source": [
    "#269\n",
    "삼성 = Stock(\"삼성전자\", \"005930\", 15.79, 1.33, 2.83)\n",
    "삼성.set_per(12.75)\n",
    "print(삼성.PER)"
   ]
  },
  {
   "cell_type": "code",
   "execution_count": 54,
   "id": "14b510f7",
   "metadata": {},
   "outputs": [
    {
     "name": "stdout",
     "output_type": "stream",
     "text": [
      "005930\n",
      "15.79\n",
      "005380\n",
      "8.7\n",
      "066570\n",
      "317.34\n"
     ]
    }
   ],
   "source": [
    "#270\n",
    "class Stock:\n",
    "    \n",
    "    def __init__(self, name, code, PER, PBR, 배당수익률):\n",
    "        self.name = name\n",
    "        self.code = code\n",
    "        self.PER = PER\n",
    "        self.PBR = PBR\n",
    "        self.배당수익률 = 배당수익률\n",
    "        \n",
    "    def set_name(self, name):\n",
    "        self.set_name = name\n",
    "        \n",
    "    def set_code(self, code):\n",
    "        self.set_code = code\n",
    "    \n",
    "    def get_name(self):\n",
    "        return self.name\n",
    "    \n",
    "    def get_code (self):\n",
    "        return self.code\n",
    "\n",
    "    def set_per(self, PER):\n",
    "        self.PER = PER\n",
    "\n",
    "    def set_pbr(self, PBR):\n",
    "        self.PBR = PBR\n",
    "        \n",
    "    def set_dividend(self, 배당수익률):\n",
    "        self.배당수익률 = 배당수익률\n",
    "        \n",
    "리스트 = []\n",
    "        \n",
    "삼성 = Stock(\"삼성전자\", \"005930\", 15.79, 1.33, 2.83)\n",
    "현대 = Stock(\"현대차\", \"005380\", 8.70, 0.35, 4.27)\n",
    "LG = Stock(\"LG전자\", \"066570\", 317.34, 0.69, 1.37)\n",
    "\n",
    "리스트.append(삼성)\n",
    "리스트.append(현대)\n",
    "리스트.append(LG)\n",
    "\n",
    "for i in 리스트:\n",
    "    print(i.code)\n",
    "    print(i.PER)"
   ]
  },
  {
   "cell_type": "code",
   "execution_count": 59,
   "id": "3d23f763",
   "metadata": {},
   "outputs": [
    {
     "name": "stdout",
     "output_type": "stream",
     "text": [
      "윤은진\n",
      "10000\n",
      "SC은행\n",
      "981-20-685220\n"
     ]
    }
   ],
   "source": [
    "#271\n",
    "\n",
    "import random\n",
    "\n",
    "class Account :\n",
    "    def __init__(self, name, money):\n",
    "        self.name = name\n",
    "        self.money = money\n",
    "        self.bank = \"SC은행\"\n",
    "        num1 = random.randint(0,999)\n",
    "        num2 = random.randint(0,99)\n",
    "        num3 = random.randint(0,999999)\n",
    "        \n",
    "        num1 = str(num1).zfill(3)\n",
    "        num2 = str(num2).zfill(2)\n",
    "        num3 = str(num3).zfill(6)\n",
    "        \n",
    "        self.account_number = num1 + '-' + num2 + '-' +num3 \n",
    "        \n",
    "계좌1 = Account('윤은진', 10000)\n",
    "print(계좌1.name)\n",
    "print(계좌1.money)\n",
    "print(계좌1.bank)\n",
    "print(계좌1.account_number)"
   ]
  },
  {
   "cell_type": "code",
   "execution_count": 61,
   "id": "8f587d0c",
   "metadata": {},
   "outputs": [
    {
     "ename": "NameError",
     "evalue": "name '객체수' is not defined",
     "output_type": "error",
     "traceback": [
      "\u001b[1;31m---------------------------------------------------------------------------\u001b[0m",
      "\u001b[1;31mNameError\u001b[0m                                 Traceback (most recent call last)",
      "Cell \u001b[1;32mIn[61], line 23\u001b[0m\n\u001b[0;32m     19\u001b[0m         \u001b[38;5;28mself\u001b[39m\u001b[38;5;241m.\u001b[39maccount_number \u001b[38;5;241m=\u001b[39m num1 \u001b[38;5;241m+\u001b[39m \u001b[38;5;124m'\u001b[39m\u001b[38;5;124m-\u001b[39m\u001b[38;5;124m'\u001b[39m \u001b[38;5;241m+\u001b[39m num2 \u001b[38;5;241m+\u001b[39m \u001b[38;5;124m'\u001b[39m\u001b[38;5;124m-\u001b[39m\u001b[38;5;124m'\u001b[39m \u001b[38;5;241m+\u001b[39mnum3 \n\u001b[0;32m     21\u001b[0m         Account\u001b[38;5;241m.\u001b[39m객체수 \u001b[38;5;241m=\u001b[39m 객체수\u001b[38;5;241m+\u001b[39m\u001b[38;5;241m1\u001b[39m\n\u001b[1;32m---> 23\u001b[0m 계좌1 \u001b[38;5;241m=\u001b[39m Account(\u001b[38;5;124m'\u001b[39m\u001b[38;5;124m윤은진\u001b[39m\u001b[38;5;124m'\u001b[39m, \u001b[38;5;241m10000\u001b[39m)\n\u001b[0;32m     24\u001b[0m \u001b[38;5;28mprint\u001b[39m(계좌1\u001b[38;5;241m.\u001b[39m객체수)\n",
      "Cell \u001b[1;32mIn[61], line 21\u001b[0m, in \u001b[0;36mAccount.__init__\u001b[1;34m(self, name, money)\u001b[0m\n\u001b[0;32m     17\u001b[0m num3 \u001b[38;5;241m=\u001b[39m \u001b[38;5;28mstr\u001b[39m(num3)\u001b[38;5;241m.\u001b[39mzfill(\u001b[38;5;241m6\u001b[39m)\n\u001b[0;32m     19\u001b[0m \u001b[38;5;28mself\u001b[39m\u001b[38;5;241m.\u001b[39maccount_number \u001b[38;5;241m=\u001b[39m num1 \u001b[38;5;241m+\u001b[39m \u001b[38;5;124m'\u001b[39m\u001b[38;5;124m-\u001b[39m\u001b[38;5;124m'\u001b[39m \u001b[38;5;241m+\u001b[39m num2 \u001b[38;5;241m+\u001b[39m \u001b[38;5;124m'\u001b[39m\u001b[38;5;124m-\u001b[39m\u001b[38;5;124m'\u001b[39m \u001b[38;5;241m+\u001b[39mnum3 \n\u001b[1;32m---> 21\u001b[0m Account\u001b[38;5;241m.\u001b[39m객체수 \u001b[38;5;241m=\u001b[39m 객체수\u001b[38;5;241m+\u001b[39m\u001b[38;5;241m1\u001b[39m\n",
      "\u001b[1;31mNameError\u001b[0m: name '객체수' is not defined"
     ]
    }
   ],
   "source": [
    "#272\n",
    "import random\n",
    "\n",
    "class Account :\n",
    "    객체수 = 0\n",
    "    \n",
    "    def __init__(self, name, money):\n",
    "        self.name = name\n",
    "        self.money = money\n",
    "        self.bank = \"SC은행\"\n",
    "        num1 = random.randint(0,999)\n",
    "        num2 = random.randint(0,99)\n",
    "        num3 = random.randint(0,999999)\n",
    "        \n",
    "        num1 = str(num1).zfill(3)\n",
    "        num2 = str(num2).zfill(2)\n",
    "        num3 = str(num3).zfill(6)\n",
    "        \n",
    "        self.account_number = num1 + '-' + num2 + '-' +num3 \n",
    "        \n",
    "        Account.객체수 = 객체수+1\n",
    "        \n",
    "계좌1 = Account('윤은진', 10000)\n",
    "print(계좌1.객체수)"
   ]
  },
  {
   "cell_type": "code",
   "execution_count": null,
   "id": "1918a6c0",
   "metadata": {},
   "outputs": [],
   "source": []
  }
 ],
 "metadata": {
  "kernelspec": {
   "display_name": "Python 3 (ipykernel)",
   "language": "python",
   "name": "python3"
  },
  "language_info": {
   "codemirror_mode": {
    "name": "ipython",
    "version": 3
   },
   "file_extension": ".py",
   "mimetype": "text/x-python",
   "name": "python",
   "nbconvert_exporter": "python",
   "pygments_lexer": "ipython3",
   "version": "3.11.5"
  }
 },
 "nbformat": 4,
 "nbformat_minor": 5
}
